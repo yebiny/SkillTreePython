{
  "nbformat": 4,
  "nbformat_minor": 0,
  "metadata": {
    "colab": {
      "provenance": [],
      "authorship_tag": "ABX9TyMAonoAn1kZGdiP7NMPRlcm",
      "include_colab_link": true
    },
    "kernelspec": {
      "name": "python3",
      "display_name": "Python 3"
    },
    "language_info": {
      "name": "python"
    }
  },
  "cells": [
    {
      "cell_type": "markdown",
      "metadata": {
        "id": "view-in-github",
        "colab_type": "text"
      },
      "source": [
        "<a href=\"https://colab.research.google.com/github/yebiny/SkillTreePython/blob/main/%ED%95%B4%EC%84%A4/4_2_%EB%B0%98%EB%B3%B5%EB%AC%B8_for_%EB%AC%B8-%EB%AC%B8%EC%A0%9C%ED%92%80%EC%9D%B4.ipynb\" target=\"_parent\"><img src=\"https://colab.research.google.com/assets/colab-badge.svg\" alt=\"Open In Colab\"/></a>"
      ]
    },
    {
      "cell_type": "markdown",
      "source": [
        "# 4-2. 조건문 : for 문\n",
        "---\n",
        "* 날짜:\n",
        "* 이름:"
      ],
      "metadata": {
        "id": "kB5IciXEm6o4"
      }
    },
    {
      "cell_type": "markdown",
      "source": [
        "## 개념정리\n",
        "---\n",
        "\n",
        "반복문은 특정 조건에 따라 반복문 코드 블럭 안의 내용을 반복합니다. 반복문을 잘 사용하면 100번 써야 할 일을 한번에 끝낼 수 있습니다. 반복문에는 `for문`과 `while문` 이 있습니다. 오늘 배울 `for문`은 처음부터 반복의 횟수를 정해줍니다. \n",
        "\n"
      ],
      "metadata": {
        "id": "4iN8NFzHRJ2D"
      }
    },
    {
      "cell_type": "markdown",
      "source": [
        "### **(1) 기본 사용**\n",
        "\n",
        "\n",
        "for문은 몇번 반복할 것인지 조건을 주고, 그 조건에 따라 for문 아래에 있는 코드가 실행됩니다.\n",
        "\n",
        "```\n",
        "for 조건: # 조건의 횟수만큼\n",
        "  코드1 # 이 코드들을 반복합니다.\n",
        "  코드2 # 이 코드들을 반복합니다.\n",
        "  ...\n",
        "```\n",
        "\n",
        "그럼 조건을 어떻게 주는지 알아봅시다.\n",
        "\n",
        "\n"
      ],
      "metadata": {
        "id": "MAM8MDnfw68b"
      }
    },
    {
      "cell_type": "markdown",
      "source": [
        "#### **군집자료형과 함께 쓰는 for문**\n",
        "\n",
        "군집자료형의 요소가 차례대로 `i` 에 바인딩 됩니다. `for문` 아래에서 `i`가 변수로 작동됩니다.  아래 예시에서 `i`는 모두 `1,2,3` 순으로 출력됩니다.  \n",
        "\n",
        "```\n",
        "for i in [1,2,3]:\n",
        "  print(\"i의 값은 : \", i)\n",
        "```"
      ],
      "metadata": {
        "id": "DHtQmH-R-4tp"
      }
    },
    {
      "cell_type": "code",
      "source": [],
      "metadata": {
        "id": "QhrqH2Yt-21m"
      },
      "execution_count": null,
      "outputs": []
    },
    {
      "cell_type": "markdown",
      "source": [
        "리스트가 아닌 튜플이나 문자열 등 다른 군집자료형도 같은 결과를 얻습니다.\n",
        "\n",
        "```\n",
        "for i in (1,2,3):\n",
        "  print(\"반복\", i)\n",
        "```"
      ],
      "metadata": {
        "id": "82JNaFiOCys3"
      }
    },
    {
      "cell_type": "code",
      "source": [],
      "metadata": {
        "id": "pp-RWxgdCxTm"
      },
      "execution_count": null,
      "outputs": []
    },
    {
      "cell_type": "markdown",
      "source": [
        "for문 내에서 변수가 필요 없으면 아래와 같이 언더바(_)로 표기하기도 합니다.\n",
        "\n",
        "```\n",
        "for _ in [1,2,3]:\n",
        "  print(\"i 값이 필요없는 반복\")\n",
        "```\n"
      ],
      "metadata": {
        "id": "6UC28ghYC0lv"
      }
    },
    {
      "cell_type": "code",
      "source": [],
      "metadata": {
        "id": "I4yAg6bDCzmd"
      },
      "execution_count": null,
      "outputs": []
    },
    {
      "cell_type": "markdown",
      "source": [
        "#### **range와 함께 쓰는 for문**\n",
        "\n",
        "\n",
        "굳이 군집자료형을 만들어 놓지 않아도 반복문을 쓸 수 있습니다. 이 때는 range를 이용하는데, range도 슬라이싱 과 마찬가지로 처음, 끝, 스텝이 존재합니다. \n",
        "\n",
        "* `range(n)`: `0`부터 `n-1` 까지 총 `n` 회 반복됩니다.\n",
        "\n",
        "```\n",
        "for i in range(3):\n",
        "  print(\"i의 값은 : \", i)\n",
        "```\n"
      ],
      "metadata": {
        "id": "4iqQ7RMZC37L"
      }
    },
    {
      "cell_type": "code",
      "source": [],
      "metadata": {
        "id": "VIbY94-2C1pQ"
      },
      "execution_count": null,
      "outputs": []
    },
    {
      "cell_type": "markdown",
      "source": [
        "\n",
        "* `range(n, m)`: `n`부터 `m-1`까지 총 `m-n`회 반복됩니다.\n",
        "\n",
        "```\n",
        "for i in range(3, 6):\n",
        "  print(i)\n",
        "```\n"
      ],
      "metadata": {
        "id": "JrGY3LipC7__"
      }
    },
    {
      "cell_type": "code",
      "source": [],
      "metadata": {
        "id": "Per7lcYxC6am"
      },
      "execution_count": null,
      "outputs": []
    },
    {
      "cell_type": "markdown",
      "source": [
        "\n",
        "* `range(n, m, s)`: `n`부터 `m-1`까지 `s`씩 건너뛰며 반복됩니다.\n",
        "\n",
        "```\n",
        "for i in range(3, 10, 2):\n",
        "  print(i)\n",
        "```\n"
      ],
      "metadata": {
        "id": "CEn0LJkdC9tN"
      }
    },
    {
      "cell_type": "code",
      "source": [],
      "metadata": {
        "id": "alTQiW14C8ze"
      },
      "execution_count": null,
      "outputs": []
    },
    {
      "cell_type": "markdown",
      "source": [
        "`range` 가 보통은 `for`문과 함께 쓰이긴 하지만 이 자체가 일종의 sequence입니다.\n",
        "\n",
        "아래와 같이 리스트로 정의해 리스트의 값을 유연하게 정의해 줄 수도 있습니다. \n",
        "\n",
        "```\n",
        "l = list(range(101))\n",
        "print(l)\n",
        "```"
      ],
      "metadata": {
        "id": "lhHXmEns7jw9"
      }
    },
    {
      "cell_type": "code",
      "source": [],
      "metadata": {
        "id": "_LtvVT9giSsx"
      },
      "execution_count": null,
      "outputs": []
    },
    {
      "cell_type": "markdown",
      "source": [
        "### **(2) 함수와 함께 쓰는 for문**\n",
        "\n",
        "\n",
        "함수도 반복해서 실행시켜야 할 경우 for문을 통해서 작성할 수 있습니다.\n",
        "\n",
        "```\n",
        "def square(x):\n",
        "  return x**2\n",
        "\n",
        "for x in [1,2,3,4,5]:\n",
        "  print(square(x))\n",
        "\n",
        "```"
      ],
      "metadata": {
        "id": "uJyYo462C_rJ"
      }
    },
    {
      "cell_type": "code",
      "source": [],
      "metadata": {
        "id": "AUXD8Wj1C-nd"
      },
      "execution_count": null,
      "outputs": []
    },
    {
      "cell_type": "markdown",
      "source": [
        "앞에서 배운 내장함수 `map`을 기억하시나요? `map` 을 이용해 함수 `square`에 리스트 `[1,2,3,4,5]` 의 결과를 출력해봅시다. \n",
        "\n",
        "```\n",
        "l = list(map(square, [1,2,3,4,5]))\n",
        "print(l)\n",
        "```"
      ],
      "metadata": {
        "id": "eiOu55kT8btU"
      }
    },
    {
      "cell_type": "code",
      "source": [],
      "metadata": {
        "id": "7KXdJWaijHsI"
      },
      "execution_count": null,
      "outputs": []
    },
    {
      "cell_type": "markdown",
      "source": [
        "위 코드와 정확히 똑같은 결과를 내는 코드를 `for`문을 이용해 작성해 봅시다. \n",
        "실행 결과 제곱 값이 담긴 리스트를 출력해야 합니다.\n"
      ],
      "metadata": {
        "id": "FuF5a-sm9F3M"
      }
    },
    {
      "cell_type": "code",
      "source": [],
      "metadata": {
        "id": "ytGJ2gMT9TZu"
      },
      "execution_count": null,
      "outputs": []
    },
    {
      "cell_type": "markdown",
      "source": [
        "### **(3) if문과 함께 쓰는 for문**\n",
        "\n",
        "for문 아래에 조건을 주어 특정 변수가 입력될 때만 코드를 실행할 수 있습니다. \n",
        "\n",
        "```\n",
        "for i in range(3):\n",
        "  print(i)\n",
        "  if i>0:\n",
        "    print('0보다 크다!')\n",
        "print('for문 끝')\n",
        "```\n"
      ],
      "metadata": {
        "id": "69DKCow2DDbM"
      }
    },
    {
      "cell_type": "code",
      "source": [],
      "metadata": {
        "id": "UQFMVQ6eDBxF"
      },
      "execution_count": null,
      "outputs": []
    },
    {
      "cell_type": "markdown",
      "source": [
        "#### 다음반복으로 건너뛰기\n",
        "\n",
        "* `continue`\n",
        "\n",
        "`for문` 안에서 `continue`를 만나면 즉시 다음 반복으로 넘어갑니다. `continue` 아래에 있는 `for문` 코드들은 진행되지 않습니다. \n",
        "\n",
        "```\n",
        "for i in range(5):\n",
        "  print(i) \n",
        "  if i < 3: continue\n",
        "  print('--') \n",
        "```\n"
      ],
      "metadata": {
        "id": "eM4qjvU4DHTs"
      }
    },
    {
      "cell_type": "code",
      "source": [
        " "
      ],
      "metadata": {
        "id": "Ykl1kjbDDGKv"
      },
      "execution_count": null,
      "outputs": []
    },
    {
      "cell_type": "markdown",
      "source": [
        "#### **for문을 즉시 종료하기**  \n",
        "\n",
        "* `break`\n",
        "\n",
        "`for문` 안에서 `break` 을 만나면 즉시 `for문`이 종료됩니다. (모든 루프가 돌아가지 않았어도)\n",
        "\n",
        "```\n",
        "for i in range(5):\n",
        "  print(i)\n",
        "  if i==2: break\n",
        "  print('--')\n",
        "```"
      ],
      "metadata": {
        "id": "UFYB6MgHDM6D"
      }
    },
    {
      "cell_type": "code",
      "source": [],
      "metadata": {
        "id": "iiI9RapDDJqQ"
      },
      "execution_count": null,
      "outputs": []
    },
    {
      "cell_type": "markdown",
      "source": [
        "`if문`의 조건을 만족하여 `break`을 만나는 순간 `for문`이 종료되고, 다음 루프가 실행조차 되지 않습니다. 따라서 2번째 루프가 시작된 후 다음 코드들은 보이지 않네요.\n"
      ],
      "metadata": {
        "id": "fbzgJuHCDS-G"
      }
    },
    {
      "cell_type": "markdown",
      "source": [
        "### **(4) for문을 더 효율적으로 사용하기**\n",
        "\n",
        "for문은 코드를 짤 때 매우 빈번하게 사용되는 문법입니다. 그러니 for문을 좀 더 효율적으로 사용하는 방법에 대해 알고 있는것이 매우 도움이 됩니다.\n",
        "\n",
        "연습을 위해 우선 리스트 두개를 먼저 정의해 봅시다.\n",
        "\n",
        "```\n",
        "l1 = [\"A\",\"B\",\"C\"]\n",
        "l2 = [\"a\", \"b\", \"c\"]\n",
        "```"
      ],
      "metadata": {
        "id": "haxPKRHqFCgX"
      }
    },
    {
      "cell_type": "code",
      "source": [],
      "metadata": {
        "id": "sogpF7X3AqSd"
      },
      "execution_count": null,
      "outputs": []
    },
    {
      "cell_type": "markdown",
      "source": [
        "\n",
        "#### **두개의 sequence를 함께 나열하기**\n",
        "\n",
        "* `zip`  \n",
        "\n",
        "`zip`을 이용해서 두개의 sequence를 순차적으로 함께 나타낼 수 있습니다. 사용 문법을 잘 숙지해 둡시다.\n",
        "\n",
        "```\n",
        "for x1, x2 in zip(l1, l2):\n",
        "  print(f'1: {x1}, 2: {x2}')\n",
        "```\n"
      ],
      "metadata": {
        "id": "ALu7TgjkFEiN"
      }
    },
    {
      "cell_type": "code",
      "source": [],
      "metadata": {
        "id": "JXYWpAdhDRFt"
      },
      "execution_count": null,
      "outputs": []
    },
    {
      "cell_type": "markdown",
      "source": [
        "#### **순번을 함께 나열하기**\n",
        "\n",
        "* `enumerate`  \n",
        "\n",
        "`for문` 내에서 변수의 값은 항상 `sequence`에 의해서 정해집니다. 절대적인 순번(0, 1, 2, 등)을 같이 변수로 바인딩하고 싶다면 `enumerate`를 사용합니다. \n",
        "\n",
        "```\n",
        "for idx, x in enumerate(l1):\n",
        "  print( idx, x)\n",
        "```"
      ],
      "metadata": {
        "id": "Zz_c1lJYHP01"
      }
    },
    {
      "cell_type": "code",
      "source": [],
      "metadata": {
        "id": "APDyAy_CFIan"
      },
      "execution_count": null,
      "outputs": []
    },
    {
      "cell_type": "markdown",
      "source": [
        "### (5) 다중 for문\n",
        "\n",
        "for문 아래 for문을 또 추가 할 수 있습니다. 다만 다중 for문일 때 코드의 작동순서를 잘 파악할 필요가 있습니다. 삼중, 사중 for문도 구현은 가능합니다. 하지만 for문이 추가될때마다 계산량이 급격히 증가하기 때문에 되도록이면 이중 for문을 넘어가지 않는것이 좋습니다.\n",
        "\n",
        "```\n",
        "for i in range(3):\n",
        "  for j in range(3):\n",
        "    print(f\"i: {i}, j:{j}\")\n",
        "```"
      ],
      "metadata": {
        "id": "aeMCCH2LHXDS"
      }
    },
    {
      "cell_type": "code",
      "source": [],
      "metadata": {
        "id": "sYUzu5AcHgEF"
      },
      "execution_count": null,
      "outputs": []
    },
    {
      "cell_type": "markdown",
      "source": [
        "코드가 아직 익숙하지 않은 상태에서 다중 for문을 보면 해석하기 어려울 수 있습니다. 이것저것 변수를 건드려보고, 출력을 바꾸면서 최대한 익숙해지도록 하는 것이 좋습니다. 아래 코드가 어떻게 나올지 예상해보고 출력해 봅시다.\n"
      ],
      "metadata": {
        "id": "9t530iSZHdQ9"
      }
    },
    {
      "cell_type": "markdown",
      "source": [
        "```\n",
        "for i in range(1, 6):\n",
        "    print(i, end=\": \")\n",
        "    for j in range(1, 11):        \n",
        "        print(j, end=\" \")\n",
        "    print()\n",
        "```"
      ],
      "metadata": {
        "id": "E6O8MHx_HeH4"
      }
    },
    {
      "cell_type": "code",
      "source": [],
      "metadata": {
        "id": "LHKNGIVSHWBe"
      },
      "execution_count": null,
      "outputs": []
    },
    {
      "cell_type": "markdown",
      "source": [
        "### (6) 리스트 안에 for문 쓰기 \n",
        "\n",
        "0부터 9까지 값이 담긴 리스트를 생성하는 방법을 앞에서 배워봤습니다.\n",
        "\n",
        "* `range`를 이용하기\n",
        "\n",
        "```\n",
        "l = list(range(10))\n",
        "```\n",
        "\n",
        "\n",
        "* `for`문 이용하기\n",
        "\n",
        "```\n",
        "l = []\n",
        "for i in range(10):\n",
        "  l.append(i)\n",
        "```\n",
        "\n",
        "이와 비슷하게 for문을 리스트 안에서 한줄로 사용하는 방법이 있습니다. 아래코드는 위 코드들과 완전히 동일한 결과를 냅니다.\n",
        "\n",
        "```\n",
        "l = [i for i in range(10)]\n",
        "```"
      ],
      "metadata": {
        "id": "cuGJgjCZmqWh"
      }
    },
    {
      "cell_type": "code",
      "source": [],
      "metadata": {
        "id": "FZdG18BbpF1x"
      },
      "execution_count": null,
      "outputs": []
    },
    {
      "cell_type": "markdown",
      "source": [
        "#### **반환값 조절하기**\n",
        "\n",
        "리스트에 담기는 값은 가장 처음에 적어줍니다. 위 코드에서는 i라는 변수가 리스트에 담겨집니다. 만약 i의 제곱값을 리스트에 넣고 싶다면 다음과 같이 작성합니다.\n",
        "\n",
        "```\n",
        "l = [i**2 for i in range(10)]\n",
        "```"
      ],
      "metadata": {
        "id": "jqHqC72fB92N"
      }
    },
    {
      "cell_type": "code",
      "source": [],
      "metadata": {
        "id": "9tv9InWkpLkB"
      },
      "execution_count": null,
      "outputs": []
    },
    {
      "cell_type": "markdown",
      "source": [
        "#### **이중 for문 구현하기**\n",
        "\n",
        "이중 for문을 구현하는 것도 가능합니다. 위에서 배운 이중 for문 하나를 작성해 보겠습니다.\n",
        "\n",
        "```\n",
        "for i in range(3):\n",
        "  for j in range(5):\n",
        "    print(i, j)\n",
        "```\n"
      ],
      "metadata": {
        "id": "cSDjRaswCYnt"
      }
    },
    {
      "cell_type": "code",
      "source": [],
      "metadata": {
        "id": "PoGSVpsIOINn"
      },
      "execution_count": null,
      "outputs": []
    },
    {
      "cell_type": "markdown",
      "source": [
        "\n",
        "이 코드와 같은 기능을 하는 코드는 아래와 같습니다. (다만 아래는 리스트를 반환하기 때문에 완전히 같은 코드는 아닙니다.)\n",
        "\n",
        "```\n",
        "l = [f'{i}, {j}' for i in range(3) for j in range(5)]\n",
        "print(l)\n",
        "```"
      ],
      "metadata": {
        "id": "czhnF1LzOITF"
      }
    },
    {
      "cell_type": "code",
      "source": [],
      "metadata": {
        "id": "-hisdcH7NvMY"
      },
      "execution_count": null,
      "outputs": []
    },
    {
      "cell_type": "markdown",
      "source": [
        "## 문제풀이\n",
        "---"
      ],
      "metadata": {
        "id": "8Rb4NNbKHiLD"
      }
    },
    {
      "cell_type": "markdown",
      "source": [
        "**[정의] 01~10**\n",
        "\n",
        "아래와 같이 리스트를 정의하세요.\n",
        "\n",
        "```\n",
        "my_list = [\"apple\", \"blue\", \"cup\", \"door\"]\n",
        "```\n"
      ],
      "metadata": {
        "id": "xOsqfbd9HmQh"
      }
    },
    {
      "cell_type": "code",
      "source": [
        "my_list = [\"apple\", \"blue\", \"cup\", \"door\"]"
      ],
      "metadata": {
        "id": "kT4FCjRCHzUP"
      },
      "execution_count": null,
      "outputs": []
    },
    {
      "cell_type": "markdown",
      "source": [
        "**예제 01**\n",
        "\n",
        "\n",
        "아래 실행 결과를 내는 코드를 `for문`과 `my_list`를 이용하여 작성하세요\n",
        "\n",
        "```{.no-highlight}\n",
        "It's apple\n",
        "It's blue\n",
        "It's cup\n",
        "It's door\n",
        "```"
      ],
      "metadata": {
        "id": "lrpQEjSPHsq2"
      }
    },
    {
      "cell_type": "code",
      "source": [
        "for x in my_list:\n",
        "  print(f\"It's {x}\")"
      ],
      "metadata": {
        "id": "kY0jptRtHfu1",
        "outputId": "f2254343-80e0-46fa-d457-d993c0c84fe0",
        "colab": {
          "base_uri": "https://localhost:8080/"
        }
      },
      "execution_count": null,
      "outputs": [
        {
          "output_type": "stream",
          "name": "stdout",
          "text": [
            "It's apple\n",
            "It's blue\n",
            "It's cup\n",
            "It's door\n"
          ]
        }
      ]
    },
    {
      "cell_type": "markdown",
      "source": [
        "**예제 02** \n",
        "\n",
        "아래 실행 결과를 내는 코드를 `for문`과 `range`를 이용해서 작성하세요\n",
        "\n",
        "```{.no-highlight}\n",
        "It's apple\n",
        "It's blue\n",
        "It's cup\n",
        "It's door\n",
        "```\n"
      ],
      "metadata": {
        "id": "EMiIhII_H1-l"
      }
    },
    {
      "cell_type": "code",
      "source": [
        "for x in range(len(my_list)):\n",
        "  print(f\"It's {my_list[x]}\")"
      ],
      "metadata": {
        "id": "2Z5FlkORH4k6",
        "outputId": "3e394c14-a3e5-4bb2-a93c-edd4722fa129",
        "colab": {
          "base_uri": "https://localhost:8080/"
        }
      },
      "execution_count": null,
      "outputs": [
        {
          "output_type": "stream",
          "name": "stdout",
          "text": [
            "It's apple\n",
            "It's blue\n",
            "It's cup\n",
            "It's door\n"
          ]
        }
      ]
    },
    {
      "cell_type": "markdown",
      "source": [
        "**예제 03** \n",
        "\n",
        "아래 실행 결과를 내는 코드를 작성하세요\n",
        "\n",
        "```{.no-highlight}\n",
        "-------\n",
        "start!\n",
        "It's apple\n",
        "It's blue\n",
        "It's cup\n",
        "It's door\n",
        "-------\n",
        "```"
      ],
      "metadata": {
        "id": "RupJUdtSH52T"
      }
    },
    {
      "cell_type": "code",
      "source": [
        "print('-------')\n",
        "print('start!')\n",
        "for x in my_list:\n",
        "  print(f\"It's {x}\")\n",
        "print('-------')  "
      ],
      "metadata": {
        "id": "MJr9wmzoH6kV",
        "outputId": "5abc155b-e811-4ce6-b702-477c84502ef9",
        "colab": {
          "base_uri": "https://localhost:8080/"
        }
      },
      "execution_count": null,
      "outputs": [
        {
          "output_type": "stream",
          "name": "stdout",
          "text": [
            "-------\n",
            "start!\n",
            "It's apple\n",
            "It's blue\n",
            "It's cup\n",
            "It's door\n",
            "-------\n"
          ]
        }
      ]
    },
    {
      "cell_type": "markdown",
      "source": [
        "**예제 04** \n",
        "\n",
        "아래 실행 결과를 내는 코드를 작성하세요\n",
        "\n",
        "\n",
        "```{.no-highlight}\n",
        "-------\n",
        "start!\n",
        "-------\n",
        "It's apple\n",
        "-------\n",
        "It's blue\n",
        "-------\n",
        "It's cup\n",
        "-------\n",
        "It's door\n",
        "end!\n",
        "-------\n",
        "```"
      ],
      "metadata": {
        "id": "_4sajqBiH7Ws"
      }
    },
    {
      "cell_type": "code",
      "source": [
        "print('-------')\n",
        "print('start!')\n",
        "for x in my_list:\n",
        "  print('-------')\n",
        "  print(f\"It's {x}\")\n",
        "print('end!')\n",
        "print('-------')  "
      ],
      "metadata": {
        "id": "JbjKVMsxH96v",
        "outputId": "64a7d42d-518e-4d84-f2f9-06a96ff40e5d",
        "colab": {
          "base_uri": "https://localhost:8080/"
        }
      },
      "execution_count": null,
      "outputs": [
        {
          "output_type": "stream",
          "name": "stdout",
          "text": [
            "-------\n",
            "start!\n",
            "-------\n",
            "It's apple\n",
            "-------\n",
            "It's blue\n",
            "-------\n",
            "It's cup\n",
            "-------\n",
            "It's door\n",
            "end!\n",
            "-------\n"
          ]
        }
      ]
    },
    {
      "cell_type": "markdown",
      "source": [
        "\n",
        "**예제 05** \n",
        "\n",
        "아래 실행 결과를 내는 코드를 작성하세요\n",
        "\n",
        "```{.no-highlight}\n",
        "a is apple\n",
        "-------\n",
        "b is blue\n",
        "-------\n",
        "c is cup\n",
        "-------\n",
        "d is door\n",
        "-------\n",
        "```"
      ],
      "metadata": {
        "id": "pmWXw1f7H_-0"
      }
    },
    {
      "cell_type": "code",
      "source": [
        "for x in my_list:\n",
        "  print(f\"{x[0]} is {x}\")\n",
        "  print('-------')  "
      ],
      "metadata": {
        "id": "ANwJwi6QIBWc",
        "outputId": "cd63fe2e-48f6-4ad7-9d9b-da19f1ac04d9",
        "colab": {
          "base_uri": "https://localhost:8080/"
        }
      },
      "execution_count": null,
      "outputs": [
        {
          "output_type": "stream",
          "name": "stdout",
          "text": [
            "a is apple\n",
            "-------\n",
            "b is blue\n",
            "-------\n",
            "c is cup\n",
            "-------\n",
            "d is door\n",
            "-------\n"
          ]
        }
      ]
    },
    {
      "cell_type": "markdown",
      "source": [
        "**예제 06** \n",
        "\n",
        "아래 실행 결과를 내는 코드를 작성하세요\n",
        "\n",
        "```{.no-highlight}\n",
        "Apple\n",
        "Blue\n",
        "Cup\n",
        "Door\n",
        "```\n"
      ],
      "metadata": {
        "id": "I8ykoYNGICPR"
      }
    },
    {
      "cell_type": "code",
      "source": [
        "for x in my_list:\n",
        "  print(f\"{x.capitalize()}\")"
      ],
      "metadata": {
        "id": "VJrCVewYIDR2",
        "outputId": "c6921da8-ca8e-427f-cba2-30b70ba3b323",
        "colab": {
          "base_uri": "https://localhost:8080/"
        }
      },
      "execution_count": null,
      "outputs": [
        {
          "output_type": "stream",
          "name": "stdout",
          "text": [
            "Apple\n",
            "Blue\n",
            "Cup\n",
            "Door\n"
          ]
        }
      ]
    },
    {
      "cell_type": "markdown",
      "source": [
        "\n",
        "**예제 07** \n",
        "\n",
        "아래 실행 결과를 내는 코드를 작성하세요\n",
        "\n",
        "```{.no-highlight}\n",
        "Apple len: 5 \n",
        "Blue len: 4\n",
        "Cup len: 3\n",
        "Door len: 4\n",
        "```\n"
      ],
      "metadata": {
        "id": "NxTLfkw2IEZp"
      }
    },
    {
      "cell_type": "code",
      "source": [
        "for x in my_list:\n",
        "  print(f\"{x.capitalize()} len: {len(x)}\")"
      ],
      "metadata": {
        "id": "M1xP6KMNIFhX",
        "outputId": "f97639aa-d4a2-4b60-9c4e-b797ab42aca1",
        "colab": {
          "base_uri": "https://localhost:8080/"
        }
      },
      "execution_count": null,
      "outputs": [
        {
          "output_type": "stream",
          "name": "stdout",
          "text": [
            "Apple len: 5\n",
            "Blue len: 4\n",
            "Cup len: 3\n",
            "Door len: 4\n"
          ]
        }
      ]
    },
    {
      "cell_type": "markdown",
      "source": [
        "**예제 08** \n",
        "\n",
        "아래 실행 결과를 내는 코드를 작성하세요\n",
        "\n",
        "```{.no-highlight}\n",
        "0. apple  \n",
        "1. blue \n",
        "2. cup \n",
        "3. door \n",
        "```"
      ],
      "metadata": {
        "id": "dEYLHxsyIGXV"
      }
    },
    {
      "cell_type": "code",
      "source": [
        "#ex1\n",
        "for i, x in enumerate(my_list):\n",
        "  print(f\"{i}. {x}\")\n",
        "#ex2\n",
        "for i in range(len(my_list)):\n",
        "  print(f\"{i}. {my_list[i]}\")"
      ],
      "metadata": {
        "id": "O-I1qZJbIHEs",
        "outputId": "c428b630-9da9-4a09-a384-5c7653ab5bc8",
        "colab": {
          "base_uri": "https://localhost:8080/"
        }
      },
      "execution_count": null,
      "outputs": [
        {
          "output_type": "stream",
          "name": "stdout",
          "text": [
            "0. apple\n",
            "1. blue\n",
            "2. cup\n",
            "3. door\n",
            "0. apple\n",
            "1. blue\n",
            "2. cup\n",
            "3. door\n"
          ]
        }
      ]
    },
    {
      "cell_type": "markdown",
      "source": [
        "**예제 09** \n",
        "\n",
        "아래 실행 결과를 내는 코드를 작성하세요\n",
        "\n",
        "```{.no-highlight}\n",
        "00. apple  \n",
        "01. blue \n",
        "02. cup \n",
        "03. door \n",
        "```"
      ],
      "metadata": {
        "id": "93edVmbzIIFF"
      }
    },
    {
      "cell_type": "code",
      "source": [
        "for i, x in enumerate(my_list):\n",
        "  print(f\"{str(i).zfill(2)}. {x}\")"
      ],
      "metadata": {
        "id": "SM4OXF9EIIzt",
        "outputId": "f72f998b-a5ee-452a-b880-13f7d0c51dd6",
        "colab": {
          "base_uri": "https://localhost:8080/"
        }
      },
      "execution_count": null,
      "outputs": [
        {
          "output_type": "stream",
          "name": "stdout",
          "text": [
            "00. apple\n",
            "01. blue\n",
            "02. cup\n",
            "03. door\n"
          ]
        }
      ]
    },
    {
      "cell_type": "markdown",
      "source": [
        "**예제 10** \n",
        "\n",
        "`my_list2`가 다음과 같이 주어졌을 때 위에서 정의한 `my_list`와 `my_list2`를 이용하여 아래와 같은 결과를 내는 코드를 작성하세요\n",
        "\n",
        "```\n",
        "my_list2 = [\"red\",\"corona\",\"mug\",\"oppen\"]\n",
        "```\n",
        "\n",
        "```\n",
        "Red apple\n",
        "Corona blue\n",
        "Mug cup\n",
        "Oppen d\n",
        "```\n"
      ],
      "metadata": {
        "id": "LtypkJvFIJ4E"
      }
    },
    {
      "cell_type": "code",
      "source": [
        "my_list2 = [\"red\",\"corona\",\"mug\",\"oppen\"]\n",
        "for a, b, in zip(my_list2, my_list):\n",
        "  print(f'{a.capitalize()} {b}')"
      ],
      "metadata": {
        "id": "Vmyf0AiaIKYl",
        "outputId": "aeaf5e80-a320-485d-e2ae-1741f80751b5",
        "colab": {
          "base_uri": "https://localhost:8080/"
        }
      },
      "execution_count": null,
      "outputs": [
        {
          "output_type": "stream",
          "name": "stdout",
          "text": [
            "Red apple\n",
            "Corona blue\n",
            "Mug cup\n",
            "Oppen door\n"
          ]
        }
      ]
    },
    {
      "cell_type": "markdown",
      "source": [
        "**예제 11** \n",
        "\n",
        "구구단을 호출하는 함수를 만드세요\n",
        "\n",
        "\n",
        "```\n",
        ">> gugudan(5)\n",
        "5 * 1 = 5\n",
        "5 * 2 = 10\n",
        "5 * 3 = 15\n",
        "5 * 4 = 20\n",
        "5 * 5 = 25\n",
        "5 * 6 = 30\n",
        "5 * 7 = 35\n",
        "5 * 8 = 40\n",
        "5 * 9 = 45\n",
        "```\n"
      ],
      "metadata": {
        "id": "ts1p9xkqKJPL"
      }
    },
    {
      "cell_type": "code",
      "source": [
        "def gugudan(x):\n",
        "  for i in range(1, 10):\n",
        "    print(f'{x} * {i} = {5*(i)}')\n",
        "gugudan(5)"
      ],
      "metadata": {
        "id": "dOjMwO7TKNH1",
        "outputId": "1d3a566d-42c2-4748-c4fa-223471dec357",
        "colab": {
          "base_uri": "https://localhost:8080/"
        }
      },
      "execution_count": null,
      "outputs": [
        {
          "output_type": "stream",
          "name": "stdout",
          "text": [
            "5 * 1 = 5\n",
            "5 * 2 = 10\n",
            "5 * 3 = 15\n",
            "5 * 4 = 20\n",
            "5 * 5 = 25\n",
            "5 * 6 = 30\n",
            "5 * 7 = 35\n",
            "5 * 8 = 40\n",
            "5 * 9 = 45\n"
          ]
        }
      ]
    },
    {
      "cell_type": "markdown",
      "source": [
        "**예제 12** \n",
        "\n",
        "이중 for문을 이용하여 아래와 똑같이 출력하는 코드를 작성하세요\n",
        "\n",
        "```{.no-highlight}\n",
        "1 2 3 4 5 6 7 8 9 10\n",
        "1 2 3 4 5 6 7 8 9 10\n",
        "1 2 3 4 5 6 7 8 9 10\n",
        "1 2 3 4 5 6 7 8 9 10\n",
        "1 2 3 4 5 6 7 8 9 10 \n",
        "1 2 3 4 5 6 7 8 9 10 \n",
        "1 2 3 4 5 6 7 8 9 10\n",
        "```\n"
      ],
      "metadata": {
        "id": "T9gPPxKVKOYL"
      }
    },
    {
      "cell_type": "code",
      "source": [
        "for i in range(7):\n",
        "  for j in range(1,11):\n",
        "      print(j, end=' ')\n",
        "  print()"
      ],
      "metadata": {
        "id": "25gRJZvaKPT0",
        "outputId": "6f28db65-dec2-436c-d759-268475da9c39",
        "colab": {
          "base_uri": "https://localhost:8080/"
        }
      },
      "execution_count": null,
      "outputs": [
        {
          "output_type": "stream",
          "name": "stdout",
          "text": [
            "1 2 3 4 5 6 7 8 9 10 \n",
            "1 2 3 4 5 6 7 8 9 10 \n",
            "1 2 3 4 5 6 7 8 9 10 \n",
            "1 2 3 4 5 6 7 8 9 10 \n",
            "1 2 3 4 5 6 7 8 9 10 \n",
            "1 2 3 4 5 6 7 8 9 10 \n",
            "1 2 3 4 5 6 7 8 9 10 \n"
          ]
        }
      ]
    },
    {
      "cell_type": "markdown",
      "source": [
        "**예제 13** \n",
        "\n",
        "이중 for문을 이용하여 아래와 똑같이 출력하는 코드를 작성하세요\n",
        "\n",
        "```{.no-highlight}\n",
        "1 2 3 4 5 6 \n",
        "1 2 3 4 5 6 \n",
        "1 2 3 4 5 6 \n",
        "1 2 3 4 5 6 \n",
        "1 2 3 4 5 6 \n",
        "1 2 3 4 5 6 \n",
        "1 2 3 4 5 6 \n",
        "```\n"
      ],
      "metadata": {
        "id": "4rEKTyo7QLUM"
      }
    },
    {
      "cell_type": "code",
      "source": [
        "for i in range(7):\n",
        "  for j in range(1,7):\n",
        "      print(j, end=' ')\n",
        "  print()"
      ],
      "metadata": {
        "id": "Tp4yC8fjQLUR",
        "outputId": "1fda2090-94ea-4fb7-fa59-4dbdeb381096",
        "colab": {
          "base_uri": "https://localhost:8080/"
        }
      },
      "execution_count": null,
      "outputs": [
        {
          "output_type": "stream",
          "name": "stdout",
          "text": [
            "1 2 3 4 5 6 \n",
            "1 2 3 4 5 6 \n",
            "1 2 3 4 5 6 \n",
            "1 2 3 4 5 6 \n",
            "1 2 3 4 5 6 \n",
            "1 2 3 4 5 6 \n",
            "1 2 3 4 5 6 \n"
          ]
        }
      ]
    },
    {
      "cell_type": "markdown",
      "source": [
        "**예제 14** \n",
        "\n",
        "아래와 똑같이 출력하는 코드를 작성하세요\n",
        "\n",
        "```{.no-highlight}\n",
        "2 4 6 8 10 \n",
        "1 3 5 7 9\n",
        "2 4 6 8 10 \n",
        "1 3 5 7 9\n",
        "2 4 6 8 10 \n",
        "1 3 5 7 9\n",
        "2 4 6 8 10 \n",
        "1 3 5 7 9\n",
        "2 4 6 8 10 \n",
        "1 3 5 7 9\n",
        "```\n"
      ],
      "metadata": {
        "id": "9JLqJX-qQS6N"
      }
    },
    {
      "cell_type": "code",
      "source": [
        "for i in range(10):\n",
        "  if i%2==0: start=2\n",
        "  else: start=1\n",
        "  for j in range(start,11,2):\n",
        "      print(j, end=' ')\n",
        "  print()"
      ],
      "metadata": {
        "id": "YnxVzInjf3Zx",
        "outputId": "cf1aedd8-636e-4e0e-af4c-4697fa2b8016",
        "colab": {
          "base_uri": "https://localhost:8080/"
        }
      },
      "execution_count": null,
      "outputs": [
        {
          "output_type": "stream",
          "name": "stdout",
          "text": [
            "2 4 6 8 10 \n",
            "1 3 5 7 9 \n",
            "2 4 6 8 10 \n",
            "1 3 5 7 9 \n",
            "2 4 6 8 10 \n",
            "1 3 5 7 9 \n",
            "2 4 6 8 10 \n",
            "1 3 5 7 9 \n",
            "2 4 6 8 10 \n",
            "1 3 5 7 9 \n"
          ]
        }
      ]
    },
    {
      "cell_type": "markdown",
      "source": [
        "**예제 15** \n",
        "\n",
        "for문을 이용하여 아래와 똑같이 출력하는 코드를 작성하세요\n",
        "\n",
        "```{.no-highlight}\n",
        "         *\n",
        "        **\n",
        "       ***\n",
        "      ****\n",
        "     *****\n",
        "    ******\n",
        "   *******\n",
        "  ********\n",
        " *********\n",
        "**********\n",
        "```\n"
      ],
      "metadata": {
        "id": "WsRXZCzzKQuI"
      }
    },
    {
      "cell_type": "code",
      "source": [
        "# for문\n",
        "for i in range(1,11):\n",
        "  print(' '*(10-i) + '*'*(i))\n",
        "\n",
        "# 이중 for문\n",
        "for i in range(1,11):\n",
        "  print(' '*(10-i), end='')\n",
        "  for j in range(i):\n",
        "    print('*', end='')\n",
        "  print()"
      ],
      "metadata": {
        "id": "uhVOEfvjKRpA",
        "outputId": "a3aa9b1f-0742-4ca4-b778-291033fba3a2",
        "colab": {
          "base_uri": "https://localhost:8080/"
        }
      },
      "execution_count": null,
      "outputs": [
        {
          "output_type": "stream",
          "name": "stdout",
          "text": [
            "         *\n",
            "        **\n",
            "       ***\n",
            "      ****\n",
            "     *****\n",
            "    ******\n",
            "   *******\n",
            "  ********\n",
            " *********\n",
            "**********\n",
            "         *\n",
            "        **\n",
            "       ***\n",
            "      ****\n",
            "     *****\n",
            "    ******\n",
            "   *******\n",
            "  ********\n",
            " *********\n",
            "**********\n"
          ]
        }
      ]
    },
    {
      "cell_type": "markdown",
      "source": [
        "\n",
        "**예제 16** \n",
        "\n",
        "이중 for문을 이용하여 아래와 똑같이 출력하는 코드를 작성하세요.\n",
        "\n",
        "```{.no-highlight}\n",
        "           #\n",
        "           *\n",
        "          ***\n",
        "         *****\n",
        "        *******\n",
        "       *********\n",
        "      ***********\n",
        "     *************\n",
        "    ***************\n",
        "   *****************\n",
        "  -------------------\n",
        "  *******************\n",
        "    MARRY CHRISTMAS !\n",
        "```\n"
      ],
      "metadata": {
        "id": "ZDNCXYGRKSoK"
      }
    },
    {
      "cell_type": "code",
      "source": [
        "print(' '*9+'#')\n",
        "for i in range(1,21,2):\n",
        "  print(' '*((20-i)//2), end='')\n",
        "  if i==19:\n",
        "    print('-'*19)\n",
        "  for j in range(i):\n",
        "      print('*', end='')\n",
        "  print()\n",
        "print(' MARRY CHRISTMAS !')"
      ],
      "metadata": {
        "id": "whjpiD-ZKTkc",
        "outputId": "f7f509c6-350e-4fbd-8859-b3d65cd2756e",
        "colab": {
          "base_uri": "https://localhost:8080/"
        }
      },
      "execution_count": null,
      "outputs": [
        {
          "output_type": "stream",
          "name": "stdout",
          "text": [
            "         #\n",
            "         *\n",
            "        ***\n",
            "       *****\n",
            "      *******\n",
            "     *********\n",
            "    ***********\n",
            "   *************\n",
            "  ***************\n",
            " *****************\n",
            "-------------------\n",
            "*******************\n",
            " MARRY CHRISTMAS !\n"
          ]
        }
      ]
    },
    {
      "cell_type": "markdown",
      "source": [
        "**[정의] 17~22**\n",
        "\n",
        "`apartment`가  다음과 같이 주어져 있습니다. \n",
        "```\n",
        "apartment = [ [201, 202, 203], [301, 302, 303], [401, 402, 403] ]\n",
        "```\n"
      ],
      "metadata": {
        "id": "uS3__jM6KUcG"
      }
    },
    {
      "cell_type": "code",
      "source": [
        "apartment = [ [201, 202, 203], [301, 302, 303], [401, 402, 403] ]"
      ],
      "metadata": {
        "id": "MxQ_LG-9NiDb"
      },
      "execution_count": null,
      "outputs": []
    },
    {
      "cell_type": "markdown",
      "source": [
        "**예제 17** \n",
        "\n",
        "아래와 같은 결과를 출력하는 코드를 `for문`과 `range`를 이용해 작성하세요\n",
        "\n",
        "```{.no-highlight}\n",
        "201 호 \n",
        "301 호 \n",
        "401 호\n",
        "```\n"
      ],
      "metadata": {
        "id": "1i9-8K7aNKeG"
      }
    },
    {
      "cell_type": "code",
      "source": [
        "for a in apartment:\n",
        "  print(f'{a[0]} 호')"
      ],
      "metadata": {
        "id": "XWKIxb2-KWVe",
        "outputId": "978546a8-5a82-4723-9b7e-857b77891c7a",
        "colab": {
          "base_uri": "https://localhost:8080/"
        }
      },
      "execution_count": null,
      "outputs": [
        {
          "output_type": "stream",
          "name": "stdout",
          "text": [
            "201 호\n",
            "301 호\n",
            "401 호\n"
          ]
        }
      ]
    },
    {
      "cell_type": "markdown",
      "source": [
        "\n",
        "**예제 18** \n",
        "\n",
        "아래와 같은 결과를 출력하는 코드를 `for문`과 `range`를 이용해 작성하세요\n",
        "\n",
        "\n",
        "```{.no-highlight}\n",
        "203 호 \n",
        "303 호 \n",
        "403 호\n",
        "```\n"
      ],
      "metadata": {
        "id": "XNWuysbqNBDo"
      }
    },
    {
      "cell_type": "code",
      "source": [
        "for i in range(len(apartment)):\n",
        "  print(f'{apartment[i][2]} 호')"
      ],
      "metadata": {
        "id": "lUmfgJwkNDEc",
        "outputId": "df67694b-a665-4beb-89b0-ae02116ddde4",
        "colab": {
          "base_uri": "https://localhost:8080/"
        }
      },
      "execution_count": null,
      "outputs": [
        {
          "output_type": "stream",
          "name": "stdout",
          "text": [
            "203 호\n",
            "303 호\n",
            "403 호\n"
          ]
        }
      ]
    },
    {
      "cell_type": "markdown",
      "source": [
        "**예제 19** \n",
        "\n",
        "아래와 같은 결과를 출력하는 코드를 `for문`과 `range`를 이용해 작성하세요\n",
        "\n",
        "\n",
        "```{.no-highlight}\n",
        "402 호 \n",
        "302 호 \n",
        "202 호 \n",
        "```\n"
      ],
      "metadata": {
        "id": "UR9FqS84NO7w"
      }
    },
    {
      "cell_type": "code",
      "source": [
        "for i in range(len(apartment)):\n",
        "  print(f'{apartment[-(i+1)][1]} 호')"
      ],
      "metadata": {
        "id": "lWTZMYfLNRxy",
        "outputId": "93453e97-7c71-4978-dd19-c8ed0c7052e1",
        "colab": {
          "base_uri": "https://localhost:8080/"
        }
      },
      "execution_count": null,
      "outputs": [
        {
          "output_type": "stream",
          "name": "stdout",
          "text": [
            "402 호\n",
            "302 호\n",
            "202 호\n"
          ]
        }
      ]
    },
    {
      "cell_type": "markdown",
      "source": [
        "**예제 20** \n",
        "\n",
        "아래와 같은 결과를 출력하는 코드를 `for문`과 `range`를 이용해 작성하세요\n",
        "\n",
        "```{.no-highlight}\n",
        "201 호 옆집은 202 호\n",
        "301 호 옆집은 302 호\n",
        "401 호 옆집은 402 호\n",
        "```\n"
      ],
      "metadata": {
        "id": "DgUcIZAxNTTm"
      }
    },
    {
      "cell_type": "code",
      "source": [
        "for i in range(len(apartment)):\n",
        "  print(f'{apartment[i][0]} 호 옆집은 {apartment[(i)][1]}')"
      ],
      "metadata": {
        "id": "WgGC6KnONWkO",
        "outputId": "27a69ad6-c0a5-4075-a53a-8a7f61e3d3cf",
        "colab": {
          "base_uri": "https://localhost:8080/"
        }
      },
      "execution_count": null,
      "outputs": [
        {
          "output_type": "stream",
          "name": "stdout",
          "text": [
            "201 호 옆집은 202\n",
            "301 호 옆집은 302\n",
            "401 호 옆집은 402\n"
          ]
        }
      ]
    },
    {
      "cell_type": "markdown",
      "source": [
        "\n",
        "**예제 21** \n",
        "\n",
        "아래와 같은 결과를 출력하는 코드를 `for문`과 `range`를 이용해 작성하세요\n",
        "\n",
        "```{.no-highlight}\n",
        "201 호 윗층은 301 호 윗층은 401호\n",
        "202 호 윗층은 302 호 윗층은 402호\n",
        "203 호 윗층은 303 호 윗층은 403호\n",
        "```\n"
      ],
      "metadata": {
        "id": "UpeuvLh8NYEi"
      }
    },
    {
      "cell_type": "code",
      "source": [
        "for i in range(len(apartment)):\n",
        "  print(f'{apartment[0][i]} 호 윗층은 {apartment[1][i]} 윗층은 {apartment[2][i]}')"
      ],
      "metadata": {
        "id": "X473dVz5NbIW",
        "outputId": "a7732919-53cf-440d-d827-ee446df2b09e",
        "colab": {
          "base_uri": "https://localhost:8080/"
        }
      },
      "execution_count": 3,
      "outputs": [
        {
          "output_type": "stream",
          "name": "stdout",
          "text": [
            "201 호 윗층은 301 윗층은 401\n",
            "202 호 윗층은 302 윗층은 402\n",
            "203 호 윗층은 303 윗층은 403\n"
          ]
        }
      ]
    },
    {
      "cell_type": "markdown",
      "source": [
        "**예제 22** \n",
        "\n",
        "아래와 같은 결과를 출력하는 코드를 `for문`과 `range`를 이용해 작성하세요\n",
        "\n",
        "\n",
        "```{.no-highlight}\n",
        "201 호 \n",
        "202 호\n",
        "203 호\n",
        "301 호\n",
        "302 호\n",
        "303 호\n",
        "401 호 \n",
        "402 호\n",
        "403 호\n",
        "```"
      ],
      "metadata": {
        "id": "sEoNppGDNcdX"
      }
    },
    {
      "cell_type": "code",
      "source": [
        "for i in range(len(apartment)):\n",
        "  for j in range(len(apartment[i])):\n",
        "    print(f'{apartment[i][j]} 호')"
      ],
      "metadata": {
        "id": "YAtaBHGkNekE",
        "outputId": "1b5609ad-1bc7-43d1-947f-5fc6e13a6782",
        "colab": {
          "base_uri": "https://localhost:8080/"
        }
      },
      "execution_count": null,
      "outputs": [
        {
          "output_type": "stream",
          "name": "stdout",
          "text": [
            "201 호\n",
            "202 호\n",
            "203 호\n",
            "301 호\n",
            "302 호\n",
            "303 호\n",
            "401 호\n",
            "402 호\n",
            "403 호\n"
          ]
        }
      ]
    },
    {
      "cell_type": "markdown",
      "source": [
        "**예제 23** \n",
        "\n",
        "1, 4, 7, 10, 13 ... 31 을 `for문`과 `range`를 이용해서 출력하세요\n"
      ],
      "metadata": {
        "id": "viZj-9fZNfeh"
      }
    },
    {
      "cell_type": "code",
      "source": [
        "print(','.join([str(i) for i in range(1,32,3)]))"
      ],
      "metadata": {
        "id": "c8vZWw5kNfrU",
        "outputId": "d02c2d51-d351-467c-9ee8-59c6e3604dfe",
        "colab": {
          "base_uri": "https://localhost:8080/"
        }
      },
      "execution_count": null,
      "outputs": [
        {
          "output_type": "stream",
          "name": "stdout",
          "text": [
            "1,4,7,10,13,16,19,22,25,28,31\n"
          ]
        }
      ]
    },
    {
      "cell_type": "markdown",
      "source": [
        "**예제 24** \n",
        "\n",
        "아래와 같이 n을 인풋으로 하면 1부터 n까지 더한 값을 출력하는 함수 `add_nums(n)`를 만드세요\n",
        "\n",
        "\n",
        "```\n",
        ">> add_nums_line(5)\n",
        "1\n",
        "3\n",
        "6\n",
        "10\n",
        "15\n",
        "```\n"
      ],
      "metadata": {
        "id": "j3SEY_qcNgro"
      }
    },
    {
      "cell_type": "code",
      "source": [
        "def add_nums_line(n):\n",
        "  n_sum=0\n",
        "  for i in range(1,n+1):\n",
        "    n_sum +=i\n",
        "    print(n_sum)\n",
        "add_nums_line(5)"
      ],
      "metadata": {
        "id": "cQpQuNFTNg1s",
        "outputId": "13fed6a4-60a5-445e-ba60-4316c28b9fb1",
        "colab": {
          "base_uri": "https://localhost:8080/"
        }
      },
      "execution_count": null,
      "outputs": [
        {
          "output_type": "stream",
          "name": "stdout",
          "text": [
            "1\n",
            "3\n",
            "6\n",
            "10\n",
            "15\n"
          ]
        }
      ]
    },
    {
      "cell_type": "markdown",
      "source": [
        "**[정의] 25~28**\n",
        "\n",
        "`num_list`가 아래와 같이 정의되어 있습니다. \n",
        "\n",
        "```\n",
        "num_list = [0,2,3,5,6,12,15,17,18,23,25,27,45,47,48,53,57,58,59,60,63,64,68,72,75,79,86,93,96,99,100]\n",
        "```"
      ],
      "metadata": {
        "id": "fcoUNSiXNqjr"
      }
    },
    {
      "cell_type": "code",
      "source": [
        "num_list = [0,2,3,5,6,12,15,17,18,23,25,27,45,47,48,53,57,58,59,60,63,64,68,72,75,79,86,93,96,99,100]"
      ],
      "metadata": {
        "id": "VQnWtngfNqvM"
      },
      "execution_count": null,
      "outputs": []
    },
    {
      "cell_type": "markdown",
      "source": [
        "**예제 25**\n",
        "\n",
        "`num_list` 중 4의 배수만 출력하세요\n"
      ],
      "metadata": {
        "id": "pq1r8LqKNvCB"
      }
    },
    {
      "cell_type": "code",
      "source": [
        "for n in num_list:\n",
        "  if n%4==0 and n>=4:\n",
        "    print(n)"
      ],
      "metadata": {
        "id": "yPjF8T57Nxd1",
        "outputId": "438224e3-4163-43d8-c120-08cfee1a1110",
        "colab": {
          "base_uri": "https://localhost:8080/"
        }
      },
      "execution_count": null,
      "outputs": [
        {
          "output_type": "stream",
          "name": "stdout",
          "text": [
            "12\n",
            "48\n",
            "60\n",
            "64\n",
            "68\n",
            "72\n",
            "96\n",
            "100\n"
          ]
        }
      ]
    },
    {
      "cell_type": "markdown",
      "source": [
        "\n",
        "**예제 26** \n",
        "\n",
        "`num_list` 중 50 이하인 5의 배수만 출력하세요\n",
        "\n"
      ],
      "metadata": {
        "id": "1jktkqlVNzAt"
      }
    },
    {
      "cell_type": "code",
      "source": [
        "for n in num_list:\n",
        "  if n%5==0 and n>=5 and n<=50:\n",
        "    print(n)"
      ],
      "metadata": {
        "id": "D8iepJF8N0kc",
        "outputId": "87df98ed-a8ce-4ff4-86cb-7ab326d6eed1",
        "colab": {
          "base_uri": "https://localhost:8080/"
        }
      },
      "execution_count": null,
      "outputs": [
        {
          "output_type": "stream",
          "name": "stdout",
          "text": [
            "5\n",
            "15\n",
            "25\n",
            "45\n"
          ]
        }
      ]
    },
    {
      "cell_type": "markdown",
      "source": [
        "**예제 27** \n",
        "\n",
        "`num_list` 중 각 자리수를 더해서 10이 넘는 숫자만 출력하세요\n"
      ],
      "metadata": {
        "id": "7ZhV5ExNN1ai"
      }
    },
    {
      "cell_type": "code",
      "source": [
        "for n in num_list:\n",
        "  if (n//10 + n%10) > 10:\n",
        "    print(n)"
      ],
      "metadata": {
        "id": "cQAChnLFN26k",
        "outputId": "37571c1c-3162-4d35-a4c0-83ecc90b4309",
        "colab": {
          "base_uri": "https://localhost:8080/"
        }
      },
      "execution_count": null,
      "outputs": [
        {
          "output_type": "stream",
          "name": "stdout",
          "text": [
            "47\n",
            "48\n",
            "57\n",
            "58\n",
            "59\n",
            "68\n",
            "75\n",
            "79\n",
            "86\n",
            "93\n",
            "96\n",
            "99\n"
          ]
        }
      ]
    },
    {
      "cell_type": "markdown",
      "source": [
        "**예제 28** \n",
        "\n",
        "`num_list` 중 가장 작은 7의 배수를 찾으세요. (hint: `break`을 반드시 포함하세요)\n"
      ],
      "metadata": {
        "id": "uCoRYjMoN4Js"
      }
    },
    {
      "cell_type": "code",
      "source": [
        "for n in sorted(num_list):\n",
        "  if n%7==0 and n>=7:\n",
        "    print(n)\n",
        "    break"
      ],
      "metadata": {
        "id": "Cwox2wbDN6B9",
        "outputId": "f0971acf-aa16-4a04-fca6-76b9860501fe",
        "colab": {
          "base_uri": "https://localhost:8080/"
        }
      },
      "execution_count": null,
      "outputs": [
        {
          "output_type": "stream",
          "name": "stdout",
          "text": [
            "63\n"
          ]
        }
      ]
    },
    {
      "cell_type": "markdown",
      "source": [
        "**예제 29** \n",
        "\n",
        "학생들의 번호와 점수가 딕셔너리에 아래와 같이 저장되어 있습니다. 전산 실수로 인해 점수가 실제 점수보다 10점이 깍인것을 발견했습니다. 점수를 모두 10점씩 올리세요\n",
        "\n",
        "```\n",
        "st_scores = {1:80, 2:55, 3:80, 4:35, 5:75, 6: 80, 7:40, 8: 90, 9:55, 10:20}\n",
        "```\n"
      ],
      "metadata": {
        "id": "AYVG1GMfN7A7"
      }
    },
    {
      "cell_type": "code",
      "source": [
        "st_scores = {1:80, 2:55, 3:80, 4:35, 5:75, 6: 80, 7:40, 8: 90, 9:55, 10:20}\n",
        "st_scores = {k:v+10 for k, v in st_scores.items()}\n",
        "st_scores"
      ],
      "metadata": {
        "id": "3eRFw6f7N7SD",
        "outputId": "5e33e161-ee39-4acc-f223-591d4e1aae1e",
        "colab": {
          "base_uri": "https://localhost:8080/"
        }
      },
      "execution_count": null,
      "outputs": [
        {
          "output_type": "execute_result",
          "data": {
            "text/plain": [
              "{1: 90, 2: 65, 3: 90, 4: 45, 5: 85, 6: 90, 7: 50, 8: 100, 9: 65, 10: 30}"
            ]
          },
          "metadata": {},
          "execution_count": 177
        }
      ]
    },
    {
      "cell_type": "markdown",
      "source": [
        "\n",
        "**예제 30** \n",
        "\n",
        "60점 미만인 학생들에게 \"재평가가 실시될 예정입니다.\", 90점 이상인 학생들에게 \"우수장학금이 지급됩니다.\"를 출력하는 코드를 작성하세요. 단, 코드내에 continue를 반드시 포함하세요\n"
      ],
      "metadata": {
        "id": "o-QPq1PEN8SL"
      }
    },
    {
      "cell_type": "code",
      "source": [
        "for n, score in st_scores.items():\n",
        "  if score<60:\n",
        "    print(f'{n}번 학생 재평가가 실시될 예정입니다.')\n",
        "  elif score>=90:\n",
        "    print(f'{n}번 우수장학금이 지급됩니다.') \n",
        "  else: pass"
      ],
      "metadata": {
        "id": "IZESB5EJN8wb",
        "outputId": "9d3b3b6f-6208-436d-eace-cee0ad7381b7",
        "colab": {
          "base_uri": "https://localhost:8080/"
        }
      },
      "execution_count": null,
      "outputs": [
        {
          "output_type": "stream",
          "name": "stdout",
          "text": [
            "1번 우수장학금이 지급됩니다.\n",
            "3번 우수장학금이 지급됩니다.\n",
            "4번 학생 재평가가 실시될 예정입니다.\n",
            "6번 우수장학금이 지급됩니다.\n",
            "7번 학생 재평가가 실시될 예정입니다.\n",
            "8번 우수장학금이 지급됩니다.\n",
            "10번 학생 재평가가 실시될 예정입니다.\n"
          ]
        }
      ]
    },
    {
      "cell_type": "markdown",
      "source": [
        "**[정의] 31~33**\n",
        "\n",
        "아래와 같이 물건의 이름과 가격이 적힌 딕셔너리가 있습니다. \n",
        "```\n",
        "mart = {'a': ['apple', 1000], 'b': ['beer', 1200] , 'c' : ['cherry', 2000], 'd':['donut', 1500], 'e': ['egg', 500], 'f' : ['fish', 3000] }\n",
        "```"
      ],
      "metadata": {
        "id": "h_SXbGKc5PT0"
      }
    },
    {
      "cell_type": "code",
      "source": [
        "mart = {'a': ['apple', 1000], 'b': ['beer', 1200] , 'c' : ['cherry', 2000], 'd':['donut', 1500], 'e': ['egg', 500], 'f' : ['fish', 3000] }"
      ],
      "metadata": {
        "id": "YM87Yqe88TUc"
      },
      "execution_count": null,
      "outputs": []
    },
    {
      "cell_type": "markdown",
      "source": [
        "**예제 31**\n",
        "\n",
        "가장 저렴한 값을 구하는 코드를 `map`과 `lambda`를 사용하지 않고 `for`문을 이용해 한줄로 작성하세요.\n"
      ],
      "metadata": {
        "id": "gmuKcuaw8UVN"
      }
    },
    {
      "cell_type": "code",
      "source": [
        "min([x[1] for x in mart.values()])"
      ],
      "metadata": {
        "id": "mRmXH7jT56SD",
        "outputId": "d05b64df-6b70-4556-afe8-d022907ba8b9",
        "colab": {
          "base_uri": "https://localhost:8080/"
        }
      },
      "execution_count": null,
      "outputs": [
        {
          "output_type": "execute_result",
          "data": {
            "text/plain": [
              "500"
            ]
          },
          "metadata": {},
          "execution_count": 182
        }
      ]
    },
    {
      "cell_type": "markdown",
      "source": [
        "**예제 32**\n",
        "\n",
        "가격의 평균을 구하는 코드를 `map`과 `lambda`를 사용하지 않고 `for`문을 이용해 한줄로 작성하세요.\n"
      ],
      "metadata": {
        "id": "fotQGh2f8iIN"
      }
    },
    {
      "cell_type": "code",
      "source": [
        "sum([x[1] for x in mart.values()])/len(mart.values())"
      ],
      "metadata": {
        "id": "8ATN4dmV6cc7",
        "outputId": "dce71053-c1e4-4359-e713-52c2c29effce",
        "colab": {
          "base_uri": "https://localhost:8080/"
        }
      },
      "execution_count": null,
      "outputs": [
        {
          "output_type": "execute_result",
          "data": {
            "text/plain": [
              "1533.3333333333333"
            ]
          },
          "metadata": {},
          "execution_count": 184
        }
      ]
    },
    {
      "cell_type": "markdown",
      "source": [
        "**예제 33**\n",
        "\n",
        "다음과 같은 출력을 하는 코드를  `for`문을 이용해 한줄로 작성하세요.\n",
        "가능하다면 코드 한줄로 작성해 보세요.\n",
        "\n",
        "```\n",
        "a is apple, b is beer, c is cherry, d is donut, e is egg, f is fish\n",
        "```"
      ],
      "metadata": {
        "id": "Y7uHNJEbySNT"
      }
    },
    {
      "cell_type": "code",
      "source": [
        "print(', '.join([f'{x} is {mart[x][0]}' for x in mart.keys()]))\n",
        "print(', '.join([f'{x} is {v[0]}' for x, v in mart.items()]))"
      ],
      "metadata": {
        "id": "W2LblbxH45qc",
        "outputId": "0a26d084-399d-4190-810a-5ee97ac8cb63",
        "colab": {
          "base_uri": "https://localhost:8080/"
        }
      },
      "execution_count": null,
      "outputs": [
        {
          "output_type": "stream",
          "name": "stdout",
          "text": [
            "a is apple, b is beer, c is cherry, d is donut, e is egg, f is fish\n",
            "a is apple, b is beer, c is cherry, d is donut, e is egg, f is fish\n"
          ]
        }
      ]
    },
    {
      "cell_type": "code",
      "source": [],
      "metadata": {
        "id": "CR4uppuW63uP"
      },
      "execution_count": null,
      "outputs": []
    }
  ]
}