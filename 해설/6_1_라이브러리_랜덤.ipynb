{
  "nbformat": 4,
  "nbformat_minor": 0,
  "metadata": {
    "colab": {
      "provenance": [],
      "authorship_tag": "ABX9TyN3+wsgjjdNqwfIb+UMV/v0",
      "include_colab_link": true
    },
    "kernelspec": {
      "name": "python3",
      "display_name": "Python 3"
    },
    "language_info": {
      "name": "python"
    }
  },
  "cells": [
    {
      "cell_type": "markdown",
      "metadata": {
        "id": "view-in-github",
        "colab_type": "text"
      },
      "source": [
        "<a href=\"https://colab.research.google.com/github/yebiny/SkillTreePython/blob/main/%ED%95%B4%EC%84%A4/6_1_%EB%9D%BC%EC%9D%B4%EB%B8%8C%EB%9F%AC%EB%A6%AC_%EB%9E%9C%EB%8D%A4.ipynb\" target=\"_parent\"><img src=\"https://colab.research.google.com/assets/colab-badge.svg\" alt=\"Open In Colab\"/></a>"
      ]
    },
    {
      "cell_type": "markdown",
      "metadata": {
        "id": "jgFAOz-Tw1VI"
      },
      "source": [
        "# 6-1.라이브러리: 랜덤\n",
        "---\n",
        "* 날짜:\n",
        "* 이름:\n"
      ]
    },
    {
      "cell_type": "markdown",
      "metadata": {
        "id": "roC8A6Ro6THT"
      },
      "source": [
        "## 개념정리\n",
        "---\n",
        "\n",
        "전세계의 파이썬 사용자들이 유용한 라이브러리를 만들어 놓았습니다. 수많은 파이썬 라이브러리가 있지만 그중에서도 유용하고 기본적인 라이브러리를 알아보도록 하겠습니다. \n",
        "\n",
        "주사위를 던지거나 복권추첨 등 난수를 이용해서 코드를 짜야할 때가 종종 있습니다. 파이썬에서 난수를 만드는 방법을 알아보도록 하겠습니다. 난수를 만드는 모듈은 **random** 을 이용합니다. "
      ]
    },
    {
      "cell_type": "markdown",
      "metadata": {
        "id": "HjPXsM8C5ULZ"
      },
      "source": [
        "### **(1) 라이브러리 임포트(import)**\n",
        "\n",
        "아래와 같이 `random` 모듈을 `import` 해줍니다.\n",
        "\n",
        "```\n",
        "import random\n",
        "```\n"
      ]
    },
    {
      "cell_type": "code",
      "metadata": {
        "id": "9pxx7Zy53xFz"
      },
      "source": [],
      "execution_count": null,
      "outputs": []
    },
    {
      "cell_type": "markdown",
      "source": [
        "### **(2) 기본 사용 : `random`**"
      ],
      "metadata": {
        "id": "4hBv297VxWGr"
      }
    },
    {
      "cell_type": "markdown",
      "metadata": {
        "id": "o4Y67BgLKmxO"
      },
      "source": [
        "#### **랜덤값 생성**\n",
        "\n"
      ]
    },
    {
      "cell_type": "markdown",
      "metadata": {
        "id": "zD6gfuVD3xwx"
      },
      "source": [
        "* `random.random` : 0과 1사이의 난수를 무작위로 생성합니다.\n",
        "\n",
        "```\n",
        "random.random()\n",
        "```\n",
        "\n"
      ]
    },
    {
      "cell_type": "code",
      "metadata": {
        "id": "OaowHk_83leh"
      },
      "source": [],
      "execution_count": null,
      "outputs": []
    },
    {
      "cell_type": "markdown",
      "metadata": {
        "id": "BOwMgkiC4RqB"
      },
      "source": [
        "* `random.randint`: 특정 범위 랜덤한 정수를 무작위로 생성합니다. (a이상 b 이하)\n",
        "\n",
        "```\n",
        "random.randint(a, b)\n",
        "```\n",
        "\n"
      ]
    },
    {
      "cell_type": "code",
      "metadata": {
        "id": "_zG33m-S4RqI"
      },
      "source": [],
      "execution_count": null,
      "outputs": []
    },
    {
      "cell_type": "markdown",
      "metadata": {
        "id": "CbpP-qatLAmI"
      },
      "source": [
        "#### **랜덤값 추출**"
      ]
    },
    {
      "cell_type": "markdown",
      "metadata": {
        "id": "uETLiTpC5OQd"
      },
      "source": [
        "* `random.choice`: 주어진 sequence 에서 랜덤으로 한개의 요소를 뽑습니다.\n",
        "\n",
        "```\n",
        "a = [1,2,3] # 리스트 a가 주어졌을 때 \n",
        "b = random.choice(a) # a의 요소 중 한개를 뽑아 b로 바인딩\n",
        "print(b)\n",
        "```\n",
        "\n"
      ]
    },
    {
      "cell_type": "code",
      "metadata": {
        "id": "MKMHr7p651mJ"
      },
      "source": [],
      "execution_count": null,
      "outputs": []
    },
    {
      "cell_type": "markdown",
      "metadata": {
        "id": "PbidqOm3z7sn"
      },
      "source": [
        "* `random.choices` : 주어진 sequence 에서 랜덤으로 k개의 요소를 뽑습니다. 중복이 가능합니다.\n",
        "\n",
        "```\n",
        "a = [1,2,3] # 리스트 a가 주어졌을 때 \n",
        "b = random.choices(a, k=2) # a의 요소 중 k개를 뽑아 b로 바인딩\n",
        "print(b)\n",
        "```\n",
        "\n"
      ]
    },
    {
      "cell_type": "code",
      "metadata": {
        "id": "sgyxjWvLz7sv"
      },
      "source": [],
      "execution_count": null,
      "outputs": []
    },
    {
      "cell_type": "markdown",
      "metadata": {
        "id": "A17ZgbqfK3lr"
      },
      "source": [
        "#### **기타**"
      ]
    },
    {
      "cell_type": "markdown",
      "metadata": {
        "id": "9od_vtK84u_4"
      },
      "source": [
        "* `random.shuffle` : 특정 시퀀스를 랜덤하게 섞는 함수입니다.\n",
        "\n",
        "```\n",
        "a = [1,2,3]\n",
        "random.shuffle(a)\n",
        "print(a)\n",
        "```\n",
        "\n"
      ]
    },
    {
      "cell_type": "code",
      "metadata": {
        "id": "_srXvBaG4Xmi"
      },
      "source": [],
      "execution_count": null,
      "outputs": []
    },
    {
      "cell_type": "markdown",
      "metadata": {
        "id": "qgwblcg16Qb7"
      },
      "source": [
        "# 예제\n",
        "---"
      ]
    },
    {
      "cell_type": "markdown",
      "metadata": {
        "id": "wEh21CAlIF5M"
      },
      "source": [
        "####**예제 01 여러번의 주사위**\n",
        "\n",
        "\n",
        "    - 주사위를 던지면 1에서 6까지 숫자가 랜덤으로 나옵니다.\n",
        "    - 주사위를 사용하가 입력한 만큼 돌리고 각숫자가 몇번씩 나왔는지 알려주는 함수를 작성하세요\n"
      ]
    },
    {
      "cell_type": "code",
      "metadata": {
        "id": "kv4kbTMuAoLN",
        "outputId": "bbdd3883-3402-4d18-a4c3-d517e167ae6f",
        "colab": {
          "base_uri": "https://localhost:8080/"
        }
      },
      "source": [
        "import random\n",
        "\n",
        "def dice(n):\n",
        "  dice_n = {i:0 for i in range(1,7)}\n",
        "  #print(dice_n)\n",
        "  for i in range(n):\n",
        "    result = random.choice([1,2,3,4,5,6])\n",
        "    dice_n[result]+=1\n",
        "  \n",
        "  for k, v in dice_n.items():\n",
        "    print(f'{k} : {v} 번.')\n",
        "\n",
        "dice(5)"
      ],
      "execution_count": 4,
      "outputs": [
        {
          "output_type": "stream",
          "name": "stdout",
          "text": [
            "1 : 1 번.\n",
            "2 : 0 번.\n",
            "3 : 1 번.\n",
            "4 : 1 번.\n",
            "5 : 2 번.\n",
            "6 : 0 번.\n"
          ]
        }
      ]
    },
    {
      "cell_type": "markdown",
      "metadata": {
        "id": "R_v3MPkG6zci"
      },
      "source": [
        "####**예제 02 업다운게임**\n",
        "\n",
        "    - 1~100까지 값이 랜덤하게 지정됩니다.\n",
        "    - 랜덤값(정답)이 사용자가 찍은 답보다 높으면 UP\n",
        "    - 랜덤값이 낮으면 DOWN\n",
        "    - 랜덤값을 맞추면 \"CORRECT\"를 출력합니다.\n",
        "    - 사용자가 랜덤값을 맞출 때까지 진행됩니다.\n"
      ]
    },
    {
      "cell_type": "code",
      "metadata": {
        "id": "rchkDnZE6y10",
        "outputId": "c49d4824-9a0a-4833-9be9-94593cb20e14",
        "colab": {
          "base_uri": "https://localhost:8080/"
        }
      },
      "source": [
        "def updown():\n",
        "  rnd = random.randint(1,100)\n",
        "  while True:\n",
        "    answer = int(input())\n",
        "    if rnd>answer : print('UP')\n",
        "    elif rnd<answer : print('Down')\n",
        "    else: \n",
        "      print(\"CORRECT\") \n",
        "      break\n",
        "\n",
        "updown()"
      ],
      "execution_count": 8,
      "outputs": [
        {
          "output_type": "stream",
          "name": "stdout",
          "text": [
            "30\n",
            "UP\n",
            "50\n",
            "Down\n",
            "40\n",
            "UP\n",
            "45\n",
            "UP\n",
            "48\n",
            "Down\n",
            "47\n",
            "Down\n",
            "46\n",
            "CORECT\n"
          ]
        }
      ]
    },
    {
      "cell_type": "markdown",
      "metadata": {
        "id": "l3NBAKiG7sD8"
      },
      "source": [
        "####**예제 03 숫자야구**\n",
        "\n",
        "    - 0~9까지 값을 지닌 3자리 숫자가 랜덤하게 지정됩니다.\n",
        "    - 각 자리 숫자는 중복되지 않아야 합니다.\n",
        "    - 맞춰야할 랜덤값 3개중 자리수에 상관없이 맞추면 \"볼\", 자리수까지 맞추면 \"홈런\" 입니다.\n",
        "    - 사용자가 지정된 랜덤값을 맞출 때까지 진행됩니다.\n",
        "\n",
        "\n",
        "\n",
        "* 아래 표는 랜덤값이 123일 때 사용자의 입력과 그에 따른 출력을 나타낸 표입니다. \n",
        "\n",
        "입력|출력\n",
        "---|---\n",
        "123| 3볼 3홈런\n",
        "132| 3볼 1홈런\n",
        "231| 3볼 0홈런 \n",
        "125| 2볼 2홈런\n",
        "\n"
      ]
    },
    {
      "cell_type": "code",
      "metadata": {
        "id": "T6yhNpAT6RsJ",
        "outputId": "92de009d-e9cb-417b-a619-0399a8cb9bb2",
        "colab": {
          "base_uri": "https://localhost:8080/"
        }
      },
      "source": [
        "def numgame():\n",
        "  rnd_list = [str(x) for x in random.sample(range(10), 3)] # random.sample 안배운 내용 맞습니다. 중복 안되게 뽑을 수 있어요\n",
        "  #print(rnd_list)\n",
        "  \n",
        "  homerun=0\n",
        "  while homerun!=3:\n",
        "    answer_list = list(input())\n",
        "    ball = 0\n",
        "    for i in range(3):\n",
        "      if rnd_list[i] in answer_list: \n",
        "        ball+=1\n",
        "      if rnd_list[i] == answer_list[i]:\n",
        "        homerun+=1\n",
        "    print(f'{ball}볼 {homerun}홈런')\n",
        "numgame()"
      ],
      "execution_count": 24,
      "outputs": [
        {
          "output_type": "stream",
          "name": "stdout",
          "text": [
            "['4', '9', '1']\n",
            "123\n",
            "1볼 0홈런\n",
            "456\n",
            "1볼 1홈런\n",
            "789\n",
            "1볼 0홈런\n",
            "345\n",
            "1볼 0홈런\n",
            "479\n",
            "2볼 1홈런\n",
            "149\n",
            "3볼 0홈런\n",
            "419\n",
            "3볼 1홈런\n",
            "491\n",
            "3볼 3홈런\n"
          ]
        }
      ]
    },
    {
      "cell_type": "markdown",
      "metadata": {
        "id": "Mal9fB6ZmXXV"
      },
      "source": [
        "####**예제 04 같은 그림 맞추기**\n",
        "\n",
        "    - 숫자가 1부터 16까지 순서대로 나열됩니다. (4x4 크기).\n",
        "    - 숫자 두개를 고르면 고른 숫자카드 두개는 알파벳이 보여집니다. \n",
        "    - 두 알파벳이 동일하면 알파벳이 보여진채로 다음 숫자 두개를 고릅니다.\n",
        "    - 두 알파벳이 다르면 다시 숫자카드가 보인채로 다음 숫자 두개를 고릅니다.\n",
        "    - 알파벳이 모두 보여지면 게임이 끝납니다.\n",
        "\n",
        "* 예시\n",
        "\n",
        "```\n",
        ">> 같은그림 맞추기 시작! \n",
        "\n",
        "| 1| 2| 3| 4|\n",
        "| 5| 6| 7| 8|\n",
        "| 9|10|11|12|\n",
        "|13|14|15|16|\n",
        "\n",
        ">> 숫자1: 5\n",
        ">> 숫자2: 10\n",
        "\n",
        "| 1| 2| 3| 4|\n",
        "| A| 6| 7| 8|\n",
        "| 9| A|11|12|\n",
        "|13|14|15|16|\n",
        "\n",
        "```\n"
      ]
    },
    {
      "cell_type": "code",
      "source": [
        "import random, time\n",
        "from google.colab import output \n",
        "\n",
        "def card_game():\n",
        "  \n",
        "  # 카드 디스플레이 함수 \n",
        "  def display(card_dict):\n",
        "    output.clear() #output.clear() 출력 지워서 깔끔하게 게임 진행 가능 필수 아님\n",
        "    for n, (alphabet, state) in card_dict.items():\n",
        "      if state: show = f'|*{alphabet}'\n",
        "      else: \n",
        "        if n<10: show = f'| {n}'\n",
        "        else: show = f'|{n}'\n",
        "      print(show, end='')\n",
        "      if n%4==0: print('|')\n",
        "\n",
        "  alphabets = ['A', 'B', 'C', 'D', 'E', 'F', 'G', 'H']*2\n",
        "  random.shuffle(alphabets)\n",
        "  card_dict = {n+1:[alphabet, False] for n, alphabet in enumerate(alphabets)}\n",
        "  # print(card_dict) #  n : 카드 앞면의 숫자 (1~16)  alphabet: 카드 뒷면 알파벳 (A~H) True/False: Match 되었는지 여부\n",
        "  # False인 카드들은 숫자 n을 보여주고 True인 카드들은 알파벳 alphabet을 보여준다.\n",
        "  \n",
        "  while True:\n",
        "    display(card_dict) \n",
        "\n",
        "    n1 = int(input('>> 숫자1: '))\n",
        "    card_dict[n1][1]=True # 카드 선택하면 True로 전환해준다. \n",
        "    display(card_dict)\n",
        "\n",
        "    n2 = int(input('>> 숫자2: '))\n",
        "    card_dict[n2][1]=True # 카드 선택하면 True로 전환해준다. \n",
        "    display(card_dict)\n",
        "\n",
        "    if card_dict[n1][0]!=card_dict[n2][0]:\n",
        "      print('**NOT MATCH!**')\n",
        "      card_dict[n1][1]=False # 두 카드가 매치되지 않으면 다시 False로 전환해준다.\n",
        "      card_dict[n2][1]=False\n",
        "    else: \n",
        "      print('** MATCH! **')\n",
        "    \n",
        "    if False not in [v[1] for v in card_dict.values()]: # False가 하나도 없으면 성공으로 간주하고 반복문 종료\n",
        "      print('=========== 승리 ===========')\n",
        "      break\n",
        "    \n",
        "    time.sleep(2) # 마찬가지로 필수 아님"
      ],
      "metadata": {
        "id": "hHpcw4MOJgjU"
      },
      "execution_count": 94,
      "outputs": []
    },
    {
      "cell_type": "code",
      "source": [
        "card_game()"
      ],
      "metadata": {
        "id": "9gzEwmf9hWhE",
        "outputId": "8990b3cb-46f9-46e5-f745-1493ac94b227",
        "colab": {
          "base_uri": "https://localhost:8080/"
        }
      },
      "execution_count": 93,
      "outputs": [
        {
          "output_type": "stream",
          "name": "stdout",
          "text": [
            "|*H|*C|*A|*B|\n",
            "|*D|*G|*F|*E|\n",
            "|*E|*H|*D|*B|\n",
            "|*A|*F|*G|*C|\n",
            "** MATCH! **\n",
            "=========== 승리 ===========\n"
          ]
        }
      ]
    }
  ]
}