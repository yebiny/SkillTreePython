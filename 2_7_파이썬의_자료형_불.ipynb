{
  "nbformat": 4,
  "nbformat_minor": 0,
  "metadata": {
    "colab": {
      "name": "2-7.파이썬의 자료형:불.ipynb",
      "provenance": [],
      "include_colab_link": true
    },
    "kernelspec": {
      "name": "python3",
      "display_name": "Python 3"
    },
    "language_info": {
      "name": "python"
    }
  },
  "cells": [
    {
      "cell_type": "markdown",
      "metadata": {
        "id": "view-in-github",
        "colab_type": "text"
      },
      "source": [
        "<a href=\"https://colab.research.google.com/github/CescFabregas4/SkillTreePython/blob/main/2_7_%ED%8C%8C%EC%9D%B4%EC%8D%AC%EC%9D%98_%EC%9E%90%EB%A3%8C%ED%98%95_%EB%B6%88.ipynb\" target=\"_parent\"><img src=\"https://colab.research.google.com/assets/colab-badge.svg\" alt=\"Open In Colab\"/></a>"
      ]
    },
    {
      "cell_type": "markdown",
      "source": [
        "# 2-7.파이썬의 자료형:불 \n",
        "---\n",
        "* 날짜: 2022-12-29\n",
        "* 이름: 김형근"
      ],
      "metadata": {
        "id": "kB5IciXEm6o4"
      }
    },
    {
      "cell_type": "markdown",
      "source": [
        "## 개념정리\n",
        "---\n"
      ],
      "metadata": {
        "id": "4iN8NFzHRJ2D"
      }
    },
    {
      "cell_type": "markdown",
      "source": [
        "### **(1) 생성**\n",
        "\n",
        "불 자료형은 단 두가지의 값, `True`와 `False`만을 가지고 있습니다. \n",
        "\n",
        "* True\n",
        "\n",
        "```\n",
        "bool_t = True\n",
        "print(bool_t, type(bool_t))\n",
        "```"
      ],
      "metadata": {
        "id": "MAM8MDnfw68b"
      }
    },
    {
      "cell_type": "code",
      "source": [
        "bool_t = True\n",
        "print(bool_t, type(bool_t))"
      ],
      "metadata": {
        "id": "-A_CdM3VvJwE",
        "outputId": "4f400e93-acb0-4ea9-e471-d527b3831fbf",
        "colab": {
          "base_uri": "https://localhost:8080/"
        }
      },
      "execution_count": 39,
      "outputs": [
        {
          "output_type": "stream",
          "name": "stdout",
          "text": [
            "True <class 'bool'>\n"
          ]
        }
      ]
    },
    {
      "cell_type": "markdown",
      "source": [
        "* False\n",
        "\n",
        "```\n",
        "bool_f = False\n",
        "print(bool_f, type(bool_f))\n",
        "```"
      ],
      "metadata": {
        "id": "ve0Q78levM7y"
      }
    },
    {
      "cell_type": "code",
      "source": [
        "bool_f = False\n",
        "print(bool_f, type(bool_f))"
      ],
      "metadata": {
        "id": "oL0peiU6vNLW",
        "outputId": "0a5f0572-e4b6-4770-8b6e-d19c10e0974b",
        "colab": {
          "base_uri": "https://localhost:8080/"
        }
      },
      "execution_count": 40,
      "outputs": [
        {
          "output_type": "stream",
          "name": "stdout",
          "text": [
            "False <class 'bool'>\n"
          ]
        }
      ]
    },
    {
      "cell_type": "markdown",
      "source": [
        "### **(2) 비교연산자**\n",
        "\n",
        "보통 불 자료형은 참과 거짓을 판단할 때 사용 합니다. 비교연산자를 통해 데이터 간의 관계를 판별하고 이를 불 자료형으로 저장할 수 있습니다.\n",
        "\n",
        "|설명|코드|\n",
        "|--|--|\n",
        "|같다|`==`|\n",
        "|다르다|`!=`|\n",
        "|크다/작다|`<`/`>`|\n",
        "|크거나 같다/작거나 같다|`<=`/`>=`|\n"
      ],
      "metadata": {
        "id": "RSd2HMOPvXJX"
      }
    },
    {
      "cell_type": "markdown",
      "source": [
        "```\n",
        "a = 10\n",
        "b = 10\n",
        "c = 20\n",
        "```"
      ],
      "metadata": {
        "id": "lChKfbz6vghh"
      }
    },
    {
      "cell_type": "code",
      "source": [
        "a = 10\n",
        "b = 10\n",
        "c = 20"
      ],
      "metadata": {
        "id": "Iql1vi-uvhyX"
      },
      "execution_count": 41,
      "outputs": []
    },
    {
      "cell_type": "markdown",
      "source": [
        "\n",
        "#### **같다**\n",
        "\n",
        "* `==`\n",
        "\n",
        "```\n",
        "print(a==b)\n",
        "print(a==c)\n",
        "```"
      ],
      "metadata": {
        "id": "sb_fMnF4vZ8M"
      }
    },
    {
      "cell_type": "code",
      "source": [
        "# = 바인딩 ==같다\n",
        "print(a==b) #a(10)과 b(10)이 같다.\n",
        "result = a==c #a(10)과 c(20)이 같다. -> result로 바인딩\n",
        "print(result)\n"
      ],
      "metadata": {
        "id": "WJk0qA7FvOJn",
        "outputId": "32219d18-1ae5-4e86-c71c-5ecc98547a81",
        "colab": {
          "base_uri": "https://localhost:8080/"
        }
      },
      "execution_count": 43,
      "outputs": [
        {
          "output_type": "stream",
          "name": "stdout",
          "text": [
            "True\n",
            "False\n"
          ]
        }
      ]
    },
    {
      "cell_type": "markdown",
      "source": [
        "#### **다르다**\n",
        "\n",
        "* `!=`\n",
        "\n",
        "```\n",
        "print(a!=b)\n",
        "print(a!=c)\n",
        "```"
      ],
      "metadata": {
        "id": "Ko2-jAkLvcr9"
      }
    },
    {
      "cell_type": "code",
      "source": [
        "#!= / =! 헷갈릴수있음\n",
        "a!=b, a!=c"
      ],
      "metadata": {
        "id": "Q0OHkDldvbMe",
        "outputId": "6d2ac7d8-c3bb-4404-9112-19d6eb0b33e3",
        "colab": {
          "base_uri": "https://localhost:8080/"
        }
      },
      "execution_count": 44,
      "outputs": [
        {
          "output_type": "execute_result",
          "data": {
            "text/plain": [
              "(False, True)"
            ]
          },
          "metadata": {},
          "execution_count": 44
        }
      ]
    },
    {
      "cell_type": "markdown",
      "source": [
        "#### **크다/작다**\n",
        "\n",
        "* `>`\n",
        "* `<`\n",
        "\n",
        "```\n",
        "print(a>c)\n",
        "print(a<c)\n",
        "```"
      ],
      "metadata": {
        "id": "8xA_skATvpnF"
      }
    },
    {
      "cell_type": "code",
      "source": [
        "print(a>c)\n",
        "print(a<c)"
      ],
      "metadata": {
        "id": "LjhSc6J6vlf9",
        "outputId": "b14e684c-6fcd-42fc-c08c-4084648a14e4",
        "colab": {
          "base_uri": "https://localhost:8080/"
        }
      },
      "execution_count": 45,
      "outputs": [
        {
          "output_type": "stream",
          "name": "stdout",
          "text": [
            "False\n",
            "True\n"
          ]
        }
      ]
    },
    {
      "cell_type": "markdown",
      "source": [
        "#### **크거나(작거나) 같다**\n",
        "\n",
        "* `>=`\n",
        "* `<=`\n",
        "\n",
        "```\n",
        "print(a>=c)\n",
        "print(a<=c)\n",
        "```"
      ],
      "metadata": {
        "id": "0H5UpFNqvstu"
      }
    },
    {
      "cell_type": "code",
      "source": [
        "print(a>=c)\n",
        "print(a<=c)"
      ],
      "metadata": {
        "id": "j6g27kAyvrb4",
        "outputId": "f3406b39-2291-41fe-f204-d02e4c9d7518",
        "colab": {
          "base_uri": "https://localhost:8080/"
        }
      },
      "execution_count": 46,
      "outputs": [
        {
          "output_type": "stream",
          "name": "stdout",
          "text": [
            "False\n",
            "True\n"
          ]
        }
      ]
    },
    {
      "cell_type": "markdown",
      "source": [
        "###  **(3) Identity 연산자**\n",
        "\n",
        "|설명|코드|\n",
        "|--|--|\n",
        "|(메모리주소가)같다|`is`|\n",
        "|(메모리주소가)다르다|`is not`|\n",
        "\n",
        "`Identity` 라고 하는 것은 두 변수가 같은 메모리 주소를 가리키는 것을 일컫습니다. 아래와 같이 세개의 값 `a`, `b`, `c`가 숫자 10으로 바인딩 되어 있습니다.\n",
        "\n",
        "```\n",
        "a = 10\n",
        "b = 10.0\n",
        "```\n"
      ],
      "metadata": {
        "id": "eF4oulf5vwEJ"
      }
    },
    {
      "cell_type": "code",
      "source": [
        "a = 10\n",
        "b = 10.0\n",
        "c = 20\n",
        "print(type(a), type(b))\n",
        "int10_1=10\n",
        "float10=10.0\n",
        "int10_2=10"
      ],
      "metadata": {
        "id": "ktyXZcurvuCY",
        "outputId": "1b89d97d-1796-4074-df25-d36ed77e3c0f",
        "colab": {
          "base_uri": "https://localhost:8080/"
        }
      },
      "execution_count": 55,
      "outputs": [
        {
          "output_type": "stream",
          "name": "stdout",
          "text": [
            "<class 'int'> <class 'float'>\n"
          ]
        }
      ]
    },
    {
      "cell_type": "markdown",
      "source": [
        "\n",
        "#### **(메모리주소가) 같을 때**\n",
        "\n",
        "*  `is`\n",
        "\n",
        "\n",
        "`a==b` 는 `True` 이고 `a is b` 는 `False`임을 확인할 수 있습니다. `a`와 `b` 모두 값 자체는 `10`으로 동일하기 때문에 `a==b`는 `True` 값을 가지지만, `a`는 `int`이고 `b`는 `float` 자료형이기 때문에 `a is b`의 결과는 `False` 입니다.\n",
        "\n",
        "```\n",
        "print(a==b) # a, b 의 값이 같은지 판별\n",
        "print(a is b) # a, b 가 같은 메모리 주소에 있는지 판별\n",
        "```\n"
      ],
      "metadata": {
        "id": "9Yv_CuPOv0J8"
      }
    },
    {
      "cell_type": "code",
      "source": [
        "print(a==b)\n",
        "print(a is b)\n",
        "print(int10_1==float10)\n",
        "print(int10_1 is float10)\n",
        "print(int10_1 is c)"
      ],
      "metadata": {
        "id": "uHpcb8vwvyYd",
        "outputId": "93653098-7384-44b1-d7bf-8a55fa456edb",
        "colab": {
          "base_uri": "https://localhost:8080/"
        }
      },
      "execution_count": 56,
      "outputs": [
        {
          "output_type": "stream",
          "name": "stdout",
          "text": [
            "True\n",
            "False\n",
            "True\n",
            "False\n",
            "False\n"
          ]
        }
      ]
    },
    {
      "cell_type": "markdown",
      "source": [
        "#### **(메모리주소가) 다를 때**\n",
        "\n",
        "* `is not`\n",
        "\n",
        "\n",
        "반대의 경우입니다. `!=` 를 사용할 때는  `True`이고 `is not`은 `True` 입니다.  \n",
        "\n",
        "```\n",
        "print(a!=b)  # a, b 의 값이 다른지 판별\n",
        "print(a is not b) # a, b 가 다른 메모리 주소에 있는지 판별\n",
        "```\n"
      ],
      "metadata": {
        "id": "D-5lT6Rjv_TJ"
      }
    },
    {
      "cell_type": "code",
      "source": [
        "print(a!=b)  # a, b 의 값이 다른지 판별\n",
        "print(a is not b)"
      ],
      "metadata": {
        "id": "ZRtzSicOgYfQ",
        "outputId": "e30a3d71-1b6c-4c67-9fea-1246fdeffbb3",
        "colab": {
          "base_uri": "https://localhost:8080/"
        }
      },
      "execution_count": 57,
      "outputs": [
        {
          "output_type": "stream",
          "name": "stdout",
          "text": [
            "False\n",
            "True\n"
          ]
        }
      ]
    },
    {
      "cell_type": "markdown",
      "source": [
        "### **(4) 논리연산자**\n",
        "\n",
        "\n"
      ],
      "metadata": {
        "id": "Pepzbg-WwErt"
      }
    },
    {
      "cell_type": "markdown",
      "source": [
        "#### **`and` 연산자**\n",
        "\n",
        "* `and` : 모두 `True`여야 `True`, 그 외엔 `False`\n",
        "\n",
        "|A|B| 결과 |\n",
        "|--|--|--|\n",
        "|False|False|False| \n",
        "|False|True|False| \n",
        "|True|False|False| \n",
        "|True|True|True| \n",
        "\n",
        "```\n",
        "a = True\n",
        "b = False\n",
        "print(a and b)\n",
        "```"
      ],
      "metadata": {
        "id": "mmKaSILLxix2"
      }
    },
    {
      "cell_type": "code",
      "source": [
        "a = True\n",
        "b = False\n",
        "print(a and b) # 타이트한 경우, 모두 True    & : 비트연산자 "
      ],
      "metadata": {
        "id": "c3a1U92Tv9je",
        "outputId": "46a959d1-062d-47ff-f364-a32fd9d52bcd",
        "colab": {
          "base_uri": "https://localhost:8080/"
        }
      },
      "execution_count": 58,
      "outputs": [
        {
          "output_type": "stream",
          "name": "stdout",
          "text": [
            "False\n"
          ]
        }
      ]
    },
    {
      "cell_type": "markdown",
      "source": [
        "#### **`or` 연산자**\n",
        "\n",
        "* `or` : 모두 `False`여야 `False`, 그 외엔 `True`\n",
        "\n",
        "|A|B| 결과 |\n",
        "|--|--|--|\n",
        "|False|False|False| \n",
        "|False|True|True| \n",
        "|True|False|True| \n",
        "|True|True|True| \n",
        "\n",
        "```\n",
        "a = True\n",
        "b = False\n",
        "print(a or b)\n",
        "```\n"
      ],
      "metadata": {
        "id": "YhxIRN0swIMk"
      }
    },
    {
      "cell_type": "code",
      "source": [
        "a = True\n",
        "b = False\n",
        "print(a or b) # 너무 엇나가지만 않으면 다 포용한다."
      ],
      "metadata": {
        "id": "FKszLHP8wGq4",
        "outputId": "7bd442b2-675c-40a8-d461-dd4040f546ea",
        "colab": {
          "base_uri": "https://localhost:8080/"
        }
      },
      "execution_count": 59,
      "outputs": [
        {
          "output_type": "stream",
          "name": "stdout",
          "text": [
            "True\n"
          ]
        }
      ]
    },
    {
      "cell_type": "markdown",
      "source": [
        "#### **`not` 연산자**\n",
        "\n",
        "* `not` : 반대\n",
        "\n",
        "|A|결과 |\n",
        "|--|--|\n",
        "|False|True| \n",
        "|False|False|\n",
        "\n",
        "```\n",
        "a = True\n",
        "print(not a)\n",
        "```"
      ],
      "metadata": {
        "id": "tPQXQ820wKx6"
      }
    },
    {
      "cell_type": "code",
      "source": [
        "a = True\n",
        "print(not a)"
      ],
      "metadata": {
        "id": "TN8hYesmwJR3",
        "outputId": "2c14ff68-5391-4a02-95f4-cd1e472d9df9",
        "colab": {
          "base_uri": "https://localhost:8080/"
        }
      },
      "execution_count": 60,
      "outputs": [
        {
          "output_type": "stream",
          "name": "stdout",
          "text": [
            "False\n"
          ]
        }
      ]
    },
    {
      "cell_type": "markdown",
      "source": [
        "### **(5) 자료형의 True/False**\n",
        "\n",
        "|값\t|자료형|\tTrue OR False |\n",
        "|--|--|--|\n",
        "\"hi\"|\tstr\t|True\n",
        "\"\"\t|str\t|False\n",
        "[1,2,3]\t|list|\tTrue\n",
        "[]|\tlist\t|False\n",
        "(1,2,3)\t|tuple|\tTrue\n",
        "()|\ttuple|\tFalse\n",
        "{}|\tdictionary|\tFalse\n",
        "1\t|int|\tTrue\n",
        "0\t|int|\tFalse\n"
      ],
      "metadata": {
        "id": "f6ZwYMcQwMq1"
      }
    },
    {
      "cell_type": "markdown",
      "source": [
        "#### **문자**\n",
        "\n",
        "문자가 하나라도 포함되어 있으면 `True` 입니다.\n",
        "\n",
        "```\n",
        "print(bool(\"abc\"))\n",
        "print(bool(\"\"))\n",
        "```\n"
      ],
      "metadata": {
        "id": "iu9Qsd9SwPRp"
      }
    },
    {
      "cell_type": "code",
      "source": [
        "print(bool(\"abc\"))\n",
        "print(bool(\"\"))"
      ],
      "metadata": {
        "id": "cADkAygFwLlw",
        "outputId": "d7dee8e3-cecd-468c-d178-87dc63b837f8",
        "colab": {
          "base_uri": "https://localhost:8080/"
        }
      },
      "execution_count": 63,
      "outputs": [
        {
          "output_type": "stream",
          "name": "stdout",
          "text": [
            "True\n",
            "False\n"
          ]
        },
        {
          "output_type": "execute_result",
          "data": {
            "text/plain": [
              "str"
            ]
          },
          "metadata": {},
          "execution_count": 63
        }
      ]
    },
    {
      "cell_type": "markdown",
      "source": [
        "\n",
        "#### **리스트/튜플/딕셔너리**\n",
        "\n",
        "리스트(튜플/딕셔너리)에 하나라도 포함되어 있으면 `True` 입니다\n",
        "\n",
        "```\n",
        "print(bool([1,2]))\n",
        "print(bool([]))\n",
        "```"
      ],
      "metadata": {
        "id": "RCxgNv7HwTTH"
      }
    },
    {
      "cell_type": "code",
      "source": [
        "print(bool([1,2]))\n",
        "print(bool([]))"
      ],
      "metadata": {
        "id": "1zj7UJIxwRr1",
        "outputId": "313bf24b-4fde-4a97-a616-c03695d4fc31",
        "colab": {
          "base_uri": "https://localhost:8080/"
        }
      },
      "execution_count": 64,
      "outputs": [
        {
          "output_type": "stream",
          "name": "stdout",
          "text": [
            "True\n",
            "False\n"
          ]
        }
      ]
    },
    {
      "cell_type": "markdown",
      "source": [
        "#### **수치자료형**\n",
        "\n",
        "0일때만 `False` 입니다.\n",
        "\n",
        "```\n",
        "print(bool(10))\n",
        "print(bool(-10))\n",
        "print(bool(0))\n",
        "```"
      ],
      "metadata": {
        "id": "ckclBKQAwXkd"
      }
    },
    {
      "cell_type": "code",
      "source": [
        "print(bool(10))\n",
        "print(bool(-10))\n",
        "print(bool(0))"
      ],
      "metadata": {
        "id": "sWhI9ZRXwWSt",
        "outputId": "f98d27b1-9056-4e3b-c7cc-b4924e681220",
        "colab": {
          "base_uri": "https://localhost:8080/"
        }
      },
      "execution_count": 65,
      "outputs": [
        {
          "output_type": "stream",
          "name": "stdout",
          "text": [
            "True\n",
            "True\n",
            "False\n"
          ]
        }
      ]
    },
    {
      "cell_type": "markdown",
      "source": [
        "## 문제풀이\n",
        "---"
      ],
      "metadata": {
        "id": "EOKHJNE_wdPo"
      }
    },
    {
      "cell_type": "markdown",
      "source": [
        "\n",
        "\n",
        "**예제 01**\n",
        "\n",
        "아래 결과를 예측하세요\n",
        "\n",
        "```\n",
        "bool(\"안녕\")\n",
        "```"
      ],
      "metadata": {
        "id": "eLhnxNGawcKi"
      }
    },
    {
      "cell_type": "code",
      "source": [
        "# True\n",
        "bool(\"안녕\")"
      ],
      "metadata": {
        "id": "W1SP3TtVwe7_",
        "outputId": "97429ed0-7024-4288-b0c7-f4ef55ff7d74",
        "colab": {
          "base_uri": "https://localhost:8080/"
        }
      },
      "execution_count": 66,
      "outputs": [
        {
          "output_type": "execute_result",
          "data": {
            "text/plain": [
              "True"
            ]
          },
          "metadata": {},
          "execution_count": 66
        }
      ]
    },
    {
      "cell_type": "markdown",
      "source": [
        "**예제 02**\n",
        "\n",
        "아래 결과를 예측하세요\n",
        "\n",
        "```\n",
        "bool(\"\")\n",
        "```"
      ],
      "metadata": {
        "id": "xGNJ9y5Wwf54"
      }
    },
    {
      "cell_type": "code",
      "source": [
        "# False\n",
        "bool(\"\")"
      ],
      "metadata": {
        "id": "gHzUxS0Lwgzz",
        "outputId": "0a831313-b292-4107-acfb-b65e7fcf01ad",
        "colab": {
          "base_uri": "https://localhost:8080/"
        }
      },
      "execution_count": 67,
      "outputs": [
        {
          "output_type": "execute_result",
          "data": {
            "text/plain": [
              "False"
            ]
          },
          "metadata": {},
          "execution_count": 67
        }
      ]
    },
    {
      "cell_type": "markdown",
      "source": [
        "**예제 03**\n",
        "\n",
        "아래 결과를 예측하세요\n",
        "\n",
        "\n",
        "```\n",
        "bool([2,4,6])\n",
        "```"
      ],
      "metadata": {
        "id": "Tg2gHNY3wgAR"
      }
    },
    {
      "cell_type": "code",
      "source": [
        "#True\n",
        "bool([2,4,6])"
      ],
      "metadata": {
        "id": "vOJSteeUwiKM",
        "outputId": "32ec3ee6-de69-46d0-cabd-1c4a7837030f",
        "colab": {
          "base_uri": "https://localhost:8080/"
        }
      },
      "execution_count": 68,
      "outputs": [
        {
          "output_type": "execute_result",
          "data": {
            "text/plain": [
              "True"
            ]
          },
          "metadata": {},
          "execution_count": 68
        }
      ]
    },
    {
      "cell_type": "markdown",
      "source": [
        "**예제 04**\n",
        "\n",
        "\n",
        "아래 결과를 예측하세요\n",
        "\n",
        "\n",
        "```\n",
        "bool([0])\n",
        "```"
      ],
      "metadata": {
        "id": "uwujor7AwiRX"
      }
    },
    {
      "cell_type": "code",
      "source": [
        "#True\n",
        "bool([0])"
      ],
      "metadata": {
        "id": "5XzG9e4lwjZp",
        "outputId": "c058a01b-8559-4188-cbe3-f56f12548dc5",
        "colab": {
          "base_uri": "https://localhost:8080/"
        }
      },
      "execution_count": 69,
      "outputs": [
        {
          "output_type": "execute_result",
          "data": {
            "text/plain": [
              "True"
            ]
          },
          "metadata": {},
          "execution_count": 69
        }
      ]
    },
    {
      "cell_type": "markdown",
      "source": [
        "**예제 05**\n",
        "\n",
        " 아래 결과를 예측하세요\n",
        "\n",
        "\n",
        "```\n",
        "bool(0)\n",
        "```"
      ],
      "metadata": {
        "id": "l1mgEeerwjep"
      }
    },
    {
      "cell_type": "code",
      "source": [
        "#False\n",
        "bool(0)\n"
      ],
      "metadata": {
        "id": "UZby3aNmwkd7",
        "outputId": "d6653d31-cc87-4112-d523-23430f320012",
        "colab": {
          "base_uri": "https://localhost:8080/"
        }
      },
      "execution_count": 70,
      "outputs": [
        {
          "output_type": "execute_result",
          "data": {
            "text/plain": [
              "False"
            ]
          },
          "metadata": {},
          "execution_count": 70
        }
      ]
    },
    {
      "cell_type": "markdown",
      "source": [
        "**예제 06**\n",
        "\n",
        " 아래 결과를 예측하세요\n",
        "\n",
        "\n",
        "```\n",
        "bool(1)\n",
        "```"
      ],
      "metadata": {
        "id": "PpUlq1KWwkio"
      }
    },
    {
      "cell_type": "code",
      "source": [
        "#True\n",
        "bool(1)"
      ],
      "metadata": {
        "id": "A9rPYh0pwlca",
        "outputId": "6c5200ea-3649-42f2-d932-3162b1c9c606",
        "colab": {
          "base_uri": "https://localhost:8080/"
        }
      },
      "execution_count": 71,
      "outputs": [
        {
          "output_type": "execute_result",
          "data": {
            "text/plain": [
              "True"
            ]
          },
          "metadata": {},
          "execution_count": 71
        }
      ]
    },
    {
      "cell_type": "markdown",
      "source": [
        "**예제 07**\n",
        "\n",
        "아래 결과를 예측하세요\n",
        "\n",
        "```\n",
        "bool([1])\n",
        "```"
      ],
      "metadata": {
        "id": "yxuynfU6wlgX"
      }
    },
    {
      "cell_type": "code",
      "source": [
        "#True\n",
        "\n",
        "bool([1])"
      ],
      "metadata": {
        "id": "hwyvS1cywmil",
        "outputId": "45ba5649-86bb-42fe-9f33-409e3cd7ec90",
        "colab": {
          "base_uri": "https://localhost:8080/"
        }
      },
      "execution_count": 72,
      "outputs": [
        {
          "output_type": "execute_result",
          "data": {
            "text/plain": [
              "True"
            ]
          },
          "metadata": {},
          "execution_count": 72
        }
      ]
    },
    {
      "cell_type": "markdown",
      "source": [
        "**예제 08**\n",
        "\n",
        " 아래 결과를 예측하세요\n",
        "\n",
        "```\n",
        " print(3==5)\n",
        "```\n"
      ],
      "metadata": {
        "id": "C8gQteDmwmnT"
      }
    },
    {
      "cell_type": "code",
      "source": [
        "#False\n",
        "\n",
        "bool(3==5)"
      ],
      "metadata": {
        "id": "vTdk0nAMwobn",
        "outputId": "56da9f2f-7898-415e-f14f-fdebf16ba4a5",
        "colab": {
          "base_uri": "https://localhost:8080/"
        }
      },
      "execution_count": 73,
      "outputs": [
        {
          "output_type": "execute_result",
          "data": {
            "text/plain": [
              "False"
            ]
          },
          "metadata": {},
          "execution_count": 73
        }
      ]
    },
    {
      "cell_type": "markdown",
      "source": [
        "**예제 09**\n",
        "\n",
        "아래 결과를 예측하세요\n",
        "```\n",
        " print(3<5)\n",
        "```"
      ],
      "metadata": {
        "id": "pV4o_x-LwohH"
      }
    },
    {
      "cell_type": "code",
      "source": [
        "#True\n",
        "\n",
        "bool(3<5)"
      ],
      "metadata": {
        "id": "iEHsL_jtwp_U",
        "outputId": "04f4d37c-011a-4c29-ed52-316c7c147ab7",
        "colab": {
          "base_uri": "https://localhost:8080/"
        }
      },
      "execution_count": 74,
      "outputs": [
        {
          "output_type": "execute_result",
          "data": {
            "text/plain": [
              "True"
            ]
          },
          "metadata": {},
          "execution_count": 74
        }
      ]
    },
    {
      "cell_type": "markdown",
      "source": [
        "**예제 10**\n",
        "\n",
        " 아래 결과를 예측하세요\n",
        "\n",
        "```\n",
        "x = 4\n",
        "print(1<x<5)\n",
        "```\n"
      ],
      "metadata": {
        "id": "pWIRx-BBwqHk"
      }
    },
    {
      "cell_type": "code",
      "source": [
        "#True\n",
        "\n",
        "x = 4\n",
        "print(1<x<5)\n",
        "\n"
      ],
      "metadata": {
        "id": "Ye-UEjJpwrLb",
        "outputId": "67dd2d3e-8704-4aeb-c88c-842c908455e9",
        "colab": {
          "base_uri": "https://localhost:8080/"
        }
      },
      "execution_count": 75,
      "outputs": [
        {
          "output_type": "stream",
          "name": "stdout",
          "text": [
            "True\n"
          ]
        }
      ]
    },
    {
      "cell_type": "markdown",
      "source": [
        "\n",
        "**예제 11**\n",
        "\n",
        "아래 결과를 예측하세요\n",
        "\n",
        "```\n",
        "print ((3 == 3) and (4 != 3))\n",
        "```"
      ],
      "metadata": {
        "id": "Q12O-j1bwrfQ"
      }
    },
    {
      "cell_type": "code",
      "source": [
        "# True\n",
        "\n",
        "print ((3 == 3) and (4 != 3))"
      ],
      "metadata": {
        "id": "CtRh6aFXwsdd",
        "outputId": "8d6a18f9-8f63-446d-e3a7-a4d8d94d367a",
        "colab": {
          "base_uri": "https://localhost:8080/"
        }
      },
      "execution_count": 76,
      "outputs": [
        {
          "output_type": "stream",
          "name": "stdout",
          "text": [
            "True\n"
          ]
        }
      ]
    },
    {
      "cell_type": "markdown",
      "source": [
        "\n",
        "**예제 12**\n",
        "\n",
        "아래 결과를 예측하세요\n",
        "\n",
        "```\n",
        "'a' in 'abc'\n",
        "```\n"
      ],
      "metadata": {
        "id": "rUiji_6nwshi"
      }
    },
    {
      "cell_type": "code",
      "source": [
        "#True\n",
        "\n",
        "'a' in 'abc'"
      ],
      "metadata": {
        "id": "ZxDpZkC_wtj7",
        "outputId": "0e055f56-8cfb-4a00-8184-9f5dd9cdf1fb",
        "colab": {
          "base_uri": "https://localhost:8080/"
        }
      },
      "execution_count": 77,
      "outputs": [
        {
          "output_type": "execute_result",
          "data": {
            "text/plain": [
              "True"
            ]
          },
          "metadata": {},
          "execution_count": 77
        }
      ]
    },
    {
      "cell_type": "markdown",
      "source": [
        "**예제 13**\n",
        "\n",
        "\n",
        "아래 결과를 예측하세요\n",
        "\n",
        "```\n",
        "'a' in ['d','b','c']\n",
        "```\n"
      ],
      "metadata": {
        "id": "lJ_bWq0Fwtow"
      }
    },
    {
      "cell_type": "code",
      "source": [
        "#False\n",
        "\n",
        "'a' in ['d','b','c']"
      ],
      "metadata": {
        "id": "E0whSkKFwvF9",
        "outputId": "f2d6ad9b-3f4e-41dc-81c9-da4d48aeb111",
        "colab": {
          "base_uri": "https://localhost:8080/"
        }
      },
      "execution_count": 78,
      "outputs": [
        {
          "output_type": "execute_result",
          "data": {
            "text/plain": [
              "False"
            ]
          },
          "metadata": {},
          "execution_count": 78
        }
      ]
    },
    {
      "cell_type": "markdown",
      "source": [
        "**예제 14**\n",
        "\n",
        "\n",
        "아래 결과를 예측하세요\n",
        "\n",
        "```\n",
        "'a' not in ['a','b','c']\n",
        "```"
      ],
      "metadata": {
        "id": "fyRztNmYwvKN"
      }
    },
    {
      "cell_type": "code",
      "source": [
        "#False\n",
        "\n",
        "'a' not in ['a','b','c']"
      ],
      "metadata": {
        "id": "6-1cfkVxwwSl",
        "outputId": "64d99bcc-60d1-471c-d81d-4c6c7f1f0988",
        "colab": {
          "base_uri": "https://localhost:8080/"
        }
      },
      "execution_count": 79,
      "outputs": [
        {
          "output_type": "execute_result",
          "data": {
            "text/plain": [
              "False"
            ]
          },
          "metadata": {},
          "execution_count": 79
        }
      ]
    },
    {
      "cell_type": "markdown",
      "source": [
        "**예제 15**\n",
        "\n",
        "아래 결과를 예측하세요\n",
        "\n",
        "```\n",
        "'a' not in 'abc'\n",
        "```"
      ],
      "metadata": {
        "id": "Lwx6We67wwYz"
      }
    },
    {
      "cell_type": "code",
      "source": [
        "#False\n",
        "\n",
        "'a' not in 'abc'"
      ],
      "metadata": {
        "id": "tprm6Yrdwy1p",
        "outputId": "13acbbe2-de83-454a-9f0b-f6917954752c",
        "colab": {
          "base_uri": "https://localhost:8080/"
        }
      },
      "execution_count": 80,
      "outputs": [
        {
          "output_type": "execute_result",
          "data": {
            "text/plain": [
              "False"
            ]
          },
          "metadata": {},
          "execution_count": 80
        }
      ]
    },
    {
      "cell_type": "markdown",
      "source": [
        "**예제 16**\n",
        "\n",
        "아래 결과가 나오도록 코드를 작성하세요\n",
        "\n",
        "\n",
        "```\n",
        ">> a = #코드를작성하세요\n",
        ">> b = #코드를작성하세요\n",
        ">> a and b\n",
        "True\n",
        "```"
      ],
      "metadata": {
        "id": "M7tF0Uzdwy6W"
      }
    },
    {
      "cell_type": "code",
      "source": [
        " a = True\n",
        " b = True\n",
        " a and b"
      ],
      "metadata": {
        "id": "gltL5ievw0G9",
        "outputId": "047a5a45-b887-4a85-ba10-38dcaac9d47b",
        "colab": {
          "base_uri": "https://localhost:8080/"
        }
      },
      "execution_count": 81,
      "outputs": [
        {
          "output_type": "execute_result",
          "data": {
            "text/plain": [
              "True"
            ]
          },
          "metadata": {},
          "execution_count": 81
        }
      ]
    },
    {
      "cell_type": "markdown",
      "source": [
        "\n",
        "**예제 17**\n",
        "\n",
        "아래 결과가 나오도록 코드를 작성하세요\n",
        "\n",
        "\n",
        "```\n",
        ">> a = #코드를작성하세요\n",
        ">> b = #코드를작성하세요\n",
        ">> a or b\n",
        "False\n",
        "```"
      ],
      "metadata": {
        "id": "hK8VBKPdw0Ml"
      }
    },
    {
      "cell_type": "code",
      "source": [
        "a = False\n",
        "b = False\n",
        "a or b"
      ],
      "metadata": {
        "id": "uGeaGOPew1Nw",
        "outputId": "eb047b75-a34e-459a-910d-9381e1be16b3",
        "colab": {
          "base_uri": "https://localhost:8080/"
        }
      },
      "execution_count": 82,
      "outputs": [
        {
          "output_type": "execute_result",
          "data": {
            "text/plain": [
              "False"
            ]
          },
          "metadata": {},
          "execution_count": 82
        }
      ]
    }
  ]
}