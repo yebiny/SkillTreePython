{
  "nbformat": 4,
  "nbformat_minor": 0,
  "metadata": {
    "colab": {
      "provenance": [],
      "include_colab_link": true
    },
    "kernelspec": {
      "name": "python3",
      "display_name": "Python 3"
    },
    "language_info": {
      "name": "python"
    }
  },
  "cells": [
    {
      "cell_type": "markdown",
      "metadata": {
        "id": "view-in-github",
        "colab_type": "text"
      },
      "source": [
        "<a href=\"https://colab.research.google.com/github/CescFabregas4/SkillTreePython/blob/main/2_6_%ED%8C%8C%EC%9D%B4%EC%8D%AC%EC%9D%98_%EC%9E%90%EB%A3%8C%ED%98%95_%EB%94%95%EC%85%94%EB%84%88%EB%A6%AC_ipynb%EC%9D%98_%EC%82%AC%EB%B3%B8.ipynb\" target=\"_parent\"><img src=\"https://colab.research.google.com/assets/colab-badge.svg\" alt=\"Open In Colab\"/></a>"
      ]
    },
    {
      "cell_type": "markdown",
      "source": [
        "# 2-6.파이썬의 자료형:딕셔너리 \n",
        "---\n",
        "* 날짜: 2022.12.28\n",
        "* 이름: 김형근"
      ],
      "metadata": {
        "id": "kB5IciXEm6o4"
      }
    },
    {
      "cell_type": "markdown",
      "source": [
        "## 개념정리\n",
        "---\n",
        "\n",
        "\n",
        "딕셔너리(dictionary) 는 `key`와 `value`로 이루어져 있습니다. 마치 사전처럼 특정 `key`에 접근해서 해당 `key`에 해당하는 `value`를 확인할 수 있습니다. 따라서 딕서녀리에서의 인덱싱 방법은 리스트나 튜플과 다르다는 점을 유의해야 합니다."
      ],
      "metadata": {
        "id": "4iN8NFzHRJ2D"
      }
    },
    {
      "cell_type": "markdown",
      "source": [
        "### **(1) 생성**\n",
        "\n",
        "`{ }` 기호를 통해 딕셔너리를 생성할 수 있습니다. 집합(set) 과 달리 딕셔너리에는 `key` 와 `value`가 존재하므로 이를 적어줍니다. 학생들의 이름표가 아래 표처럼 기입되어 있다고 가정합시다.\n",
        "\n",
        "|번호|이름|\n",
        "|--|--|\n",
        "|1|김모모|\n",
        "|2|이모모|\n",
        "|3|강모모|\n",
        "\n",
        "1-김모모, 2-이모모, 3-강모모 와 같이 순서쌍으로 되어있는 데이터를 딕셔너리로 아래와 같이 표현할 수 있습니다.\n",
        "```\n",
        "students = { 1: '김모모', 2: '이모모', 3: '강모모' }\n",
        "print( students, type(students) )\n",
        "```"
      ],
      "metadata": {
        "id": "MAM8MDnfw68b"
      }
    },
    {
      "cell_type": "code",
      "source": [],
      "metadata": {
        "id": "Ci3MSqj8mdEo"
      },
      "execution_count": null,
      "outputs": []
    },
    {
      "cell_type": "markdown",
      "source": [
        "#### **key**\n",
        "\n",
        "* `a.keys()` : 딕셔너리 `a`의 `key` 값들을 반환합니다.\n",
        "\n",
        "딕셔너리 `students`의 `key` 값들을 확인해 봅시다.\n",
        "\n",
        "```\n",
        "students.keys()\n",
        "```"
      ],
      "metadata": {
        "id": "pTXhUDBdmflg"
      }
    },
    {
      "cell_type": "code",
      "source": [],
      "metadata": {
        "id": "kQgNdHn9mhBf"
      },
      "execution_count": null,
      "outputs": []
    },
    {
      "cell_type": "markdown",
      "source": [
        "반환 값의 타입을 보면 `dict_keys`라는 객체를 돌려주는 것을 볼 수 있습니다. `dict_keys`는 리스트를 사용하는 것과 차이가 거의 없긴 하지만 리스트에서 사용되는 유용한 메서드 (`append`, `remove`, `sort` 등)을 사용할 수 없습니다. 따라서 `dict_keys` 객체를 리스트로 변환하려면 아래와 같이 리스트로 바인딩하고 이 `key`값들을 유용하게 사용할 수 있습니다. \n",
        "\n",
        "```\n",
        "key_list = students.keys()\n",
        "print(key_list)\n",
        "```\n"
      ],
      "metadata": {
        "id": "KkMGhau7mlt0"
      }
    },
    {
      "cell_type": "code",
      "source": [],
      "metadata": {
        "id": "UwBXWvk5mr4v"
      },
      "execution_count": null,
      "outputs": []
    },
    {
      "cell_type": "markdown",
      "source": [
        "#### **value**\n",
        "\n",
        "* `a.values()` : 딕셔너리 `a`의 `vlalue` 값들을 반환합니다.\n",
        "\n",
        "딕셔너리 `students`의 `value` 값들을 확인해 봅시다.\n",
        "\n",
        "```\n",
        "students.values()\n",
        "```"
      ],
      "metadata": {
        "id": "xSWjMofZmqSd"
      }
    },
    {
      "cell_type": "code",
      "source": [],
      "metadata": {
        "id": "Yiu0p9Hvmh7P"
      },
      "execution_count": null,
      "outputs": []
    },
    {
      "cell_type": "markdown",
      "source": [
        "#### **딕셔너리의 요소**\n",
        "\n",
        "딕셔너리에는 `key`와 `value`로 구성되어 있습니다. `key`값과 `value`값은 문자열과 수치자료형이 모두 가능합니다.\n",
        "\n",
        "```\n",
        "students_name = { '김모모': 1, '이모모': 2, '강모모': 3}\n",
        "print(students_name)\n",
        "```"
      ],
      "metadata": {
        "id": "y4unWpUtnDRr"
      }
    },
    {
      "cell_type": "code",
      "source": [],
      "metadata": {
        "id": "N-k0xPDlnCPR"
      },
      "execution_count": null,
      "outputs": []
    },
    {
      "cell_type": "markdown",
      "source": [
        "* `value` 값은 리스트로 구성될 수 있습니다.\n",
        "\n",
        "```\n",
        "students_list = { 1: ['김모모', '여성'], 2: ['이모모', '여성'], 3: ['강모모', '남성'] } \n",
        "print(students_list)\n",
        "```"
      ],
      "metadata": {
        "id": "L3ivb4yznNkB"
      }
    },
    {
      "cell_type": "code",
      "source": [],
      "metadata": {
        "id": "qq48adJTnIi4"
      },
      "execution_count": null,
      "outputs": []
    },
    {
      "cell_type": "markdown",
      "source": [
        "* `key`값은 리스트로 구성할 수 없습니다.\n",
        "\n",
        "```\n",
        "students_list = { ['김모모', '여성']:1, ['이모모', '여성']:2, ['강모모', '남성']:3 } \n",
        "print(students_list)\n",
        "```"
      ],
      "metadata": {
        "id": "q7ai9P_OnZOX"
      }
    },
    {
      "cell_type": "code",
      "source": [],
      "metadata": {
        "id": "B5rMikMYnOrP"
      },
      "execution_count": null,
      "outputs": []
    },
    {
      "cell_type": "markdown",
      "source": [
        "### **(2) 인덱싱과 슬라이싱**\n",
        "\n",
        "딕셔너리 자료형은 인덱싱이 가능하지만 슬라이싱은 불가능합니다.\n",
        "\n",
        "#### **인덱싱**\n",
        "\n",
        "딕셔너리 자료형에서 인덱싱을 하기 위해서는 `key`값을 이용합니다. \n",
        "\n",
        "```\n",
        "print(students)\n",
        "\n",
        "print(students[1]) \n",
        "print(students[2])\n",
        "print(students[3])\n",
        "```"
      ],
      "metadata": {
        "id": "6USCWJfinhzp"
      }
    },
    {
      "cell_type": "code",
      "source": [],
      "metadata": {
        "id": "ru9cjc8MnhVA"
      },
      "execution_count": null,
      "outputs": []
    },
    {
      "cell_type": "markdown",
      "source": [
        "### **(3) 수정과 삭제**\n"
      ],
      "metadata": {
        "id": "Jt3KMf5enuzd"
      }
    },
    {
      "cell_type": "markdown",
      "source": [
        "\n",
        "#### **수정**\n",
        "\n",
        "인덱싱을 이용해 `value`값에 접근하여 값을 수정할 수 있습니다.\n",
        "\n",
        "```\n",
        "print(students)\n",
        "students[1] = \"윤모모\" # key 1 해당하는 value를 \"윤모모\"로 변경\n",
        "print(students)\n",
        "```"
      ],
      "metadata": {
        "id": "T4fcddD9n2XQ"
      }
    },
    {
      "cell_type": "code",
      "source": [],
      "metadata": {
        "id": "FqSnpoQgnf1X"
      },
      "execution_count": null,
      "outputs": []
    },
    {
      "cell_type": "markdown",
      "source": [
        "#### **삭제**\n",
        "\n",
        "인덱싱을 에용해 `value`값에 접근하고, `del` 을이용해 값을 삭제할 수 있습니다.\n",
        "\n",
        "```\n",
        "print(students)\n",
        "del students[1] # (1-윤모모) 삭제\n",
        "print(students)\n",
        "```\n"
      ],
      "metadata": {
        "id": "8FDcTjVPn_GM"
      }
    },
    {
      "cell_type": "code",
      "source": [],
      "metadata": {
        "id": "ssIGMsJ_n5D3"
      },
      "execution_count": null,
      "outputs": []
    },
    {
      "cell_type": "markdown",
      "source": [
        "\n",
        "### **(4) 관련 메서드**"
      ],
      "metadata": {
        "id": "UOJIwkinoRaF"
      }
    },
    {
      "cell_type": "markdown",
      "source": [
        "\n",
        "\n",
        "* `dict.get(k)` : 딕셔너리 `dict`의 key `k`에 해당하는 value를 반환합니다. 인덱싱과 같은 기능을 합니다. \n",
        "\n",
        "```\n",
        "print(students)\n",
        "print(students.get(2)) #  key 2에 해당하는 value 출력 (.get 이용하기)\n",
        "print(students[2]) # key 2에 해당하는 value 출력 (인덱싱 이용하기)\n",
        "```"
      ],
      "metadata": {
        "id": "P4ZTx-WLoFHQ"
      }
    },
    {
      "cell_type": "code",
      "source": [],
      "metadata": {
        "id": "EeNW-L8AoDqR"
      },
      "execution_count": null,
      "outputs": []
    },
    {
      "cell_type": "markdown",
      "source": [
        "* `dict.items()` : 딕셔너리 `dict`의 key 와 value를 튜플 쌍으로 반환합니다.\n",
        "\n",
        "\n",
        "```\n",
        "print(students.items()) # key-value 쌍 출력\n",
        "```\n"
      ],
      "metadata": {
        "id": "IY34hs3NoQCi"
      }
    },
    {
      "cell_type": "code",
      "source": [],
      "metadata": {
        "id": "GetiL-7-oI9O"
      },
      "execution_count": null,
      "outputs": []
    },
    {
      "cell_type": "markdown",
      "source": [
        "유용하게 사용하기 위해서는 리스트로 바꿔줍니다.\n",
        "\n",
        "```\n",
        "item_list = list(students.items())\n",
        "print(item_list)\n",
        "```"
      ],
      "metadata": {
        "id": "7CJzSn8boYPY"
      }
    },
    {
      "cell_type": "code",
      "source": [],
      "metadata": {
        "id": "ndAt_6B_ohRM"
      },
      "execution_count": null,
      "outputs": []
    },
    {
      "cell_type": "markdown",
      "source": [
        "리스트 형식으로 `key`와 `value`값에 적절히 접근할 수 있습니다.\n",
        "\n",
        "```\n",
        "print(item_list[0][0]) # 0번째 key\n",
        "print(item_list[0][1]) # 0번째 value\n",
        "print(item_list[1][0]) # 1번째 key\n",
        "print(item_list[1][1]) # 1번째 value\n",
        "```"
      ],
      "metadata": {
        "id": "3Mz2hNPvoiYX"
      }
    },
    {
      "cell_type": "code",
      "source": [],
      "metadata": {
        "id": "l1ggc4rqo5Kg"
      },
      "execution_count": null,
      "outputs": []
    },
    {
      "cell_type": "markdown",
      "source": [
        "* `dict.clear()` : 딕셔너리 `dict`의 구성요소를 초기화(제거) 합니다.\n",
        "\n",
        "```\n",
        "print(students) # students  출력\n",
        "students.clear() # students 초기화\n",
        "print(students) # students  출력\n",
        "```"
      ],
      "metadata": {
        "id": "NPopL6l8oTw1"
      }
    },
    {
      "cell_type": "code",
      "source": [],
      "metadata": {
        "id": "OufFGiD8oUEJ"
      },
      "execution_count": null,
      "outputs": []
    },
    {
      "cell_type": "markdown",
      "source": [
        "## 문제풀이\n",
        "---\n",
        "\n"
      ],
      "metadata": {
        "id": "E2hw7Lu5o-fs"
      }
    },
    {
      "cell_type": "markdown",
      "source": [
        "**예제 01**\n",
        "\n",
        "과일메뉴와 가격이 다음과 같습니다. 이를 딕셔너리로 저장하세요\n",
        "\n",
        "|과일|가격|\n",
        "--|--\n",
        "사과|1000\n",
        "바나나|2400\n",
        "감자|400|\n",
        "메론|8000\n",
        "복숭아|4000\n",
        "딸기|9000\n"
      ],
      "metadata": {
        "id": "vBBYosZJpASW"
      }
    },
    {
      "cell_type": "code",
      "source": [
        "과일가게 = {'사과' : 1000, '바나나' : 2400, '감자':400, '메론' : 8000, '복숭아' : 4000, '딸기' : 9000}\n",
        "print(과일가게)"
      ],
      "metadata": {
        "id": "NjNzHNhHo8Pm",
        "colab": {
          "base_uri": "https://localhost:8080/"
        },
        "outputId": "5ac49e15-6e95-4a1e-bcc8-7b017fc2f40d"
      },
      "execution_count": null,
      "outputs": [
        {
          "output_type": "stream",
          "name": "stdout",
          "text": [
            "{'사과': 1000, '바나나': 2400, '감자': 400, '메론': 8000, '복숭아': 4000, '딸기': 9000}\n"
          ]
        }
      ]
    },
    {
      "cell_type": "markdown",
      "source": [
        "**예제 02**\n",
        "\n",
        "위에서 만든 딕셔너리에 \"포도\"를 추가하세요 가격은 6500원입니다."
      ],
      "metadata": {
        "id": "EHflY9g-pBpS"
      }
    },
    {
      "cell_type": "code",
      "source": [
        "과일가게[\"포도\"] = 6500\n",
        "print(과일가게)"
      ],
      "metadata": {
        "id": "AvZFSHdLpCv4",
        "colab": {
          "base_uri": "https://localhost:8080/"
        },
        "outputId": "a5c76dc4-1e20-494d-fa3a-ad4f8efa411a"
      },
      "execution_count": null,
      "outputs": [
        {
          "output_type": "stream",
          "name": "stdout",
          "text": [
            "{'사과': 1000, '바나나': 2400, '감자': 400, '메론': 8000, '복숭아': 4000, '딸기': 9000, '포도': 6500}\n"
          ]
        }
      ]
    },
    {
      "cell_type": "markdown",
      "source": [
        "**예제 03**\n",
        "\n",
        "위에서 만든 딕셔너리에 \"감자\"를 삭제하세요\n"
      ],
      "metadata": {
        "id": "RqOkRDTspC5V"
      }
    },
    {
      "cell_type": "code",
      "source": [
        "del 과일가게['감자']\n",
        "print(과일가게)"
      ],
      "metadata": {
        "colab": {
          "base_uri": "https://localhost:8080/"
        },
        "id": "KyNMWrQF-fVc",
        "outputId": "1dc8dbdf-b655-46cf-e513-491f1433d06b"
      },
      "execution_count": null,
      "outputs": [
        {
          "output_type": "stream",
          "name": "stdout",
          "text": [
            "{'사과': 1000, '바나나': 2400, '메론': 8000, '복숭아': 4000, '딸기': 9000, '포도': 6500}\n"
          ]
        }
      ]
    },
    {
      "cell_type": "code",
      "source": [],
      "metadata": {
        "id": "Z46WP9k2pDYQ"
      },
      "execution_count": null,
      "outputs": []
    },
    {
      "cell_type": "markdown",
      "source": [
        "**예제 04**\n",
        "\n",
        "복숭아 가격이 올라 4500원이 되었습니다. 가격을 조정하세요"
      ],
      "metadata": {
        "id": "o6HRTQy3pDeI"
      }
    },
    {
      "cell_type": "markdown",
      "source": [],
      "metadata": {
        "id": "dcruE8ySESqn"
      }
    },
    {
      "cell_type": "code",
      "source": [
        "과일가게['복숭아'] = 4500\n",
        "print(과일가게)"
      ],
      "metadata": {
        "id": "w7MSSt_ypEJ0",
        "colab": {
          "base_uri": "https://localhost:8080/"
        },
        "outputId": "fe94247a-e61d-4b12-98a1-16346ee6f918"
      },
      "execution_count": null,
      "outputs": [
        {
          "output_type": "stream",
          "name": "stdout",
          "text": [
            "{'사과': 1000, '바나나': 2400, '메론': 8000, '복숭아': 4500, '딸기': 9000, '포도': 6500}\n"
          ]
        }
      ]
    },
    {
      "cell_type": "markdown",
      "source": [
        "**예제 05**\n",
        "\n",
        "위에서 정의한 딕셔너리의 key 값들만 이용해서 아래와 같이 출력되도록 세줄의 코드를 작성하세요\n",
        "\n",
        "* 코드\n",
        "```\n",
        "# key값을 리스트로 변환합니다.\n",
        "# 리스트를 문자열로 변환합니다. -> join() 함수사용\n",
        "# 문자열을 출력합니다.\n",
        "```\n",
        "\n",
        "* 실행 결과\n",
        "```\n",
        "가게 과일 종류는 사과, 바나나, 메론, 봉숭아, 딸기, 포도 입니다!\n",
        "```"
      ],
      "metadata": {
        "id": "W4tcYa3MpEOc"
      }
    },
    {
      "cell_type": "code",
      "source": [
        "fruits=list(과일가게.keys())\n",
        "F = ', '.join(fruits)\n",
        "print(f'가게 과일 종류는 {F} 입니다!')"
      ],
      "metadata": {
        "id": "opdEEVMHpFQx",
        "colab": {
          "base_uri": "https://localhost:8080/"
        },
        "outputId": "4b0b8efe-315d-482b-e7e7-dcd4e43d0168"
      },
      "execution_count": null,
      "outputs": [
        {
          "output_type": "stream",
          "name": "stdout",
          "text": [
            "가게 과일 종류는 사과, 바나나, 메론, 복숭아, 딸기, 포도 입니다!\n"
          ]
        }
      ]
    },
    {
      "cell_type": "markdown",
      "source": [
        "**예제 06**\n",
        "\n",
        "위에서 정의한 딕셔너리를 이용해서 사용자가 과일 종류 한가지를 입력하면 해당 과일의 가격을 출력하는 코드를 작성하세요\n",
        "\n",
        "* 실행 결과\n",
        "```\n",
        ">> 어떤 과일을 찾으시나요?: 사과\n",
        "사과의 가격은 1000원 입니다.\n",
        "```"
      ],
      "metadata": {
        "id": "x2E746EdpFWN"
      }
    },
    {
      "cell_type": "code",
      "source": [
        "Q1 = input(\"어떤 과일을 찾으시나요? : \")\n",
        "P1 = (과일가게[Q1])\n",
        "print(f'{Q1}의 가격은 {P1}원 입니다.')"
      ],
      "metadata": {
        "id": "A4_O8rJepQtv",
        "colab": {
          "base_uri": "https://localhost:8080/"
        },
        "outputId": "968fb78b-7d7f-49f7-ac07-981238ed75b8"
      },
      "execution_count": null,
      "outputs": [
        {
          "output_type": "stream",
          "name": "stdout",
          "text": [
            "어떤 과일을 찾으시나요? : 사과\n",
            "사과의 가격은 1000원 입니다.\n"
          ]
        }
      ]
    },
    {
      "cell_type": "markdown",
      "source": [
        "**예제 07**\n",
        "\n",
        "커피를 `key`로, 가격과 재고가 들어있는 리스트를 `value` 로 하는 딕셔너리를 구성하여 `caffe_menu`로 바인딩하세요.\n",
        "\n",
        "|이름| 가격 | 재고 |\n",
        "|------| -----|----|\n",
        "|americano|1000|8\n",
        "|latte|1200|5\n",
        "|milk tea|1800|4\n"
      ],
      "metadata": {
        "id": "Jn6EOaYdpmJi"
      }
    },
    {
      "cell_type": "code",
      "source": [
        "caffe_menu = {'americano' : [ 1000, 8], 'latte' : [1200, 5], 'milk tea' : [1800,4] }\n",
        "print(caffe_menu)"
      ],
      "metadata": {
        "id": "4mBLSS4TpnfO",
        "colab": {
          "base_uri": "https://localhost:8080/"
        },
        "outputId": "81b4fbfe-f3a3-4fa0-bc62-6c8a41c00417"
      },
      "execution_count": 1,
      "outputs": [
        {
          "output_type": "stream",
          "name": "stdout",
          "text": [
            "{'americano': [1000, 8], 'latte': [1200, 5], 'milk tea': [1800, 4]}\n"
          ]
        }
      ]
    },
    {
      "cell_type": "markdown",
      "source": [
        "**예제 08**\n",
        "\n",
        "americano의 재고를 출력하세요\n"
      ],
      "metadata": {
        "id": "wnkXcxJNpsQd"
      }
    },
    {
      "cell_type": "code",
      "source": [
        "caffe_menu['americano'][1]"
      ],
      "metadata": {
        "id": "tnwv8DN9ptEt",
        "colab": {
          "base_uri": "https://localhost:8080/"
        },
        "outputId": "581b2b74-360e-43a7-a727-4356faf74016"
      },
      "execution_count": null,
      "outputs": [
        {
          "output_type": "execute_result",
          "data": {
            "text/plain": [
              "8"
            ]
          },
          "metadata": {},
          "execution_count": 29
        }
      ]
    },
    {
      "cell_type": "markdown",
      "source": [
        "\n",
        "**예제 09**\n",
        "\n",
        "latte의 가격을 출력하세요"
      ],
      "metadata": {
        "id": "wRw90-mHptKS"
      }
    },
    {
      "cell_type": "code",
      "source": [
        "caffe_menu['latte'][0]"
      ],
      "metadata": {
        "id": "wX5wz3bqpt7R",
        "colab": {
          "base_uri": "https://localhost:8080/"
        },
        "outputId": "7c335ead-5e3e-4f51-dd4d-f11cf5b50110"
      },
      "execution_count": null,
      "outputs": [
        {
          "output_type": "execute_result",
          "data": {
            "text/plain": [
              "1200"
            ]
          },
          "metadata": {},
          "execution_count": 31
        }
      ]
    },
    {
      "cell_type": "markdown",
      "source": [
        "**예제 10**\n",
        "\n",
        "모든 가격의 평균을 출력하는 코드를 한줄로 작성하세요"
      ],
      "metadata": {
        "id": "bHKHg1UJpuA4"
      }
    },
    {
      "cell_type": "code",
      "source": [
        "print((caffe_menu['americano'][0]+caffe_menu['latte'][0]+caffe_menu['milk tea'][0])/len(caffe_menu.keys()))"
      ],
      "metadata": {
        "id": "W_V1N7SDpvBh",
        "colab": {
          "base_uri": "https://localhost:8080/"
        },
        "outputId": "e0eaf87e-1780-41ab-8124-6a02ca7a21cc"
      },
      "execution_count": null,
      "outputs": [
        {
          "output_type": "stream",
          "name": "stdout",
          "text": [
            "1333.3333333333333\n"
          ]
        }
      ]
    },
    {
      "cell_type": "markdown",
      "source": [
        "**예제 11**\n",
        "\n",
        "가장 비싼 음료의 가격을 출력하는 코드를 한줄로 작성하세요"
      ],
      "metadata": {
        "id": "UGj-HLxApvKn"
      }
    },
    {
      "cell_type": "code",
      "source": [
        "max(caffe_menu.values())[0]"
      ],
      "metadata": {
        "id": "rSCh6S4opwEC",
        "colab": {
          "base_uri": "https://localhost:8080/"
        },
        "outputId": "c3239dd8-6510-4b50-d78f-04f74d218306"
      },
      "execution_count": null,
      "outputs": [
        {
          "output_type": "execute_result",
          "data": {
            "text/plain": [
              "1800"
            ]
          },
          "metadata": {},
          "execution_count": 37
        }
      ]
    },
    {
      "cell_type": "markdown",
      "source": [
        "**예제 12**\n",
        "\n",
        "우유값의 인상으로 latte와 milk tea의 가격이 300원씩 올랐습니다. `caffe_menu`에 반영하세요. (딕셔너리 자체를 재바인딩 하지 않도록 코드를 작성하세요.)"
      ],
      "metadata": {
        "id": "Ll9-2W1ZqVPP"
      }
    },
    {
      "cell_type": "code",
      "source": [
        "# + 를 사용해서 코드를 작성하세요\n",
        "list_caffe = list(caffe_menu.items())\n",
        "caffe_menu['latte'][0]+=300\n",
        "caffe_menu['milk tea'][0]+=300\n",
        "print(list_caffe)"
      ],
      "metadata": {
        "id": "VnpW2XlJqVay",
        "outputId": "d77ff6eb-f30d-455a-85dd-c1c084111129",
        "colab": {
          "base_uri": "https://localhost:8080/"
        }
      },
      "execution_count": 2,
      "outputs": [
        {
          "output_type": "stream",
          "name": "stdout",
          "text": [
            "[('americano', [1000, 8]), ('latte', [1500, 5]), ('milk tea', [2100, 4])]\n"
          ]
        }
      ]
    },
    {
      "cell_type": "markdown",
      "source": [
        "**예제 13**\n",
        "\n",
        "가격, 재고 외에 판매수 라는 정보를 더 추가하려 합니다. 판매수는 americano 15개, latte 8개, milk tea 5개 입니다. `caffe_menu`의 `value`에 판매수를 추가하세요.  (딕셔너리 자체를 재바인딩 하지 않도록 코드를 작성하세요.)\n"
      ],
      "metadata": {
        "id": "ffpR-aIzpwQn"
      }
    },
    {
      "cell_type": "code",
      "source": [
        "# append 를 사용해서 코드를 작성하세요\n",
        "list_caffe[0][1].append(15)\n",
        "list_caffe[1][1].append(8)\n",
        "list_caffe[2][1].append(5)\n",
        "print(dict(list_caffe))"
      ],
      "metadata": {
        "id": "ZhtuPrubpxhN",
        "outputId": "22a85f1f-0b7f-4478-d55c-8dee3441f783",
        "colab": {
          "base_uri": "https://localhost:8080/"
        }
      },
      "execution_count": 3,
      "outputs": [
        {
          "output_type": "stream",
          "name": "stdout",
          "text": [
            "{'americano': [1000, 8, 15], 'latte': [1500, 5, 8], 'milk tea': [2100, 4, 5]}\n"
          ]
        }
      ]
    },
    {
      "cell_type": "markdown",
      "source": [
        "**예제 14**\n",
        "\n",
        "재고 자동화로 더이상 재고 데이터가 필요없게 되었습니다. `caffe_menu`에서  재고에 관한 값을 제거하세요. (딕셔너리 자체를 재바인딩 하지 않도록 코드를 작성하세요.)"
      ],
      "metadata": {
        "id": "hH-ILO6gqlxi"
      }
    },
    {
      "cell_type": "code",
      "source": [
        "list_caffe[0][1].remove(8)\n",
        "list_caffe[1][1].remove(5)\n",
        "list_caffe[2][1].remove(4)\n",
        "print(dict(list_caffe))"
      ],
      "metadata": {
        "id": "MGHM3OKIqlxj",
        "outputId": "fb38ef73-47f0-4a70-84fb-592e1d7b3d99",
        "colab": {
          "base_uri": "https://localhost:8080/"
        }
      },
      "execution_count": 4,
      "outputs": [
        {
          "output_type": "stream",
          "name": "stdout",
          "text": [
            "{'americano': [1000, 15], 'latte': [1500, 8], 'milk tea': [2100, 5]}\n"
          ]
        }
      ]
    },
    {
      "cell_type": "markdown",
      "source": [
        "**예제 15**\n",
        "\n",
        "새로운 메뉴 `vanilla latte`가 추가되었습니다. 가격은 2000원이고 판매수는 0입니다. `caffe_menu`에 추가하세요."
      ],
      "metadata": {
        "id": "ayPk9FlFq3tf"
      }
    },
    {
      "cell_type": "code",
      "source": [
        "caffe_menu=dict(list_caffe)\n",
        "caffe_menu['vanilla latte'] = [2000, 0]\n",
        "print(caffe_menu)"
      ],
      "metadata": {
        "id": "9MXlfxTLq3tl",
        "outputId": "93629855-4b0f-473a-c9ac-6f92df0b4a1d",
        "colab": {
          "base_uri": "https://localhost:8080/"
        }
      },
      "execution_count": 5,
      "outputs": [
        {
          "output_type": "stream",
          "name": "stdout",
          "text": [
            "{'americano': [1000, 15], 'latte': [1500, 8], 'milk tea': [2100, 5], 'vanilla latte': [2000, 0]}\n"
          ]
        }
      ]
    },
    {
      "cell_type": "markdown",
      "source": [
        "**예제 16**\n",
        "\n",
        "아래와 같이 코드를 실행하면 메뉴를 띄우고, 사용자가 메뉴를 입력하면 메뉴에 대한 정보를 출력하는 코드를 작성하세요.\n",
        "\n",
        "* 실행 결과\n",
        "```\n",
        ">> 메뉴: americano * latte * milk tea * vanilla latte\n",
        ">> 메뉴를 선택하세요: milk tea\n",
        "milk tea 의 가격은 2100원이고 오늘 5개 팔렸습니다.\n",
        "```\n"
      ],
      "metadata": {
        "id": "12io9CvxpSeZ"
      }
    },
    {
      "cell_type": "code",
      "source": [
        "menufan=list(caffe_menu.keys())\n",
        "menufan2=' * '.join(menufan)\n",
        "print(f'메뉴: {menufan2} ')\n",
        "sl=input(\"메뉴를 선택하세요 : \")\n",
        "sp=caffe_menu[sl][0]\n",
        "ss=caffe_menu[sl][1]\n",
        "print(f\"{sl} 의 가격은 {sp}원이고 오늘 {ss}개 팔렸읍니다.\")"
      ],
      "metadata": {
        "id": "rBVfpGbppTqv",
        "colab": {
          "base_uri": "https://localhost:8080/"
        },
        "outputId": "559ce6f7-ce11-4f18-8a91-9b723fb28d78"
      },
      "execution_count": 8,
      "outputs": [
        {
          "output_type": "stream",
          "name": "stdout",
          "text": [
            "메뉴: americano * latte * milk tea * vanilla latte \n",
            "메뉴를 선택하세요 : milk tea\n",
            "milk tea 의 가격은 2100원이고 오늘 5개 팔렸읍니다.\n"
          ]
        }
      ]
    },
    {
      "cell_type": "markdown",
      "source": [
        "**예제 17**\n",
        "\n",
        "아래와 같이 사용자가 0부터 9까지 숫자를 입력하면 한국어로 변환하는 코드를 작성하세요. \n",
        "\n",
        "* 실행 결과\n",
        "```\n",
        ">> 0부터 9까지 숫자를 입력하세요: 7\n",
        "7은 한국어로 \"칠\" 이라고 읽습니다.\n",
        "```\n"
      ],
      "metadata": {
        "id": "uS21dCdOrsr_"
      }
    },
    {
      "cell_type": "code",
      "source": [
        "한글읽기= {0 : \"영\", 1 : \"일\", 2 : \"이\", 3 : \"삼\", 4: \"사\", 5 : \"오\", 6 : \"육\", 7 : \"칠\", 8 : \"팔\", 9 : \"구\"}\n",
        "z=input(\"0부터 9까지 숫자를 입력하세요 : \") \n",
        "zn=한글읽기[int(z)]\n",
        "print(f'{z}는 한국어로 \"{zn}\" 이라고 읽습니다.')"
      ],
      "metadata": {
        "id": "bPbTUijmrsr_",
        "colab": {
          "base_uri": "https://localhost:8080/"
        },
        "outputId": "34af2475-d752-4b76-e025-7ae8e2e5b768"
      },
      "execution_count": null,
      "outputs": [
        {
          "output_type": "stream",
          "name": "stdout",
          "text": [
            "0부터 9까지 숫자를 입력하세요 : 7\n",
            "7는 한국어로 \"칠\" 이라고 읽습니다.\n"
          ]
        }
      ]
    },
    {
      "cell_type": "markdown",
      "source": [
        "**예제 18**\n",
        "\n",
        "아래와 같이 딕셔너리가 정의되어 있습니다. 알파벳을 입력하면 아래와 같은 실행 결과를 내는 코드를 작성하세요.\n",
        "\n",
        "```\n",
        "abc_dict = {'a': ['apple', 'air'], 'b': ['banana', 'book'] , 'c' : ['cherry', 'car']}\n",
        "```\n",
        "\n",
        "* 실행 결과\n",
        "```\n",
        ">> alphabet : a\n",
        "a is apple, a is air\n",
        "```\n",
        "\n",
        "* 실행 결과\n",
        "```\n",
        ">> alphabet : b\n",
        "b is banana, b is book\n",
        "```\n"
      ],
      "metadata": {
        "id": "ll-l2MJUrtCn"
      }
    },
    {
      "cell_type": "code",
      "source": [
        "abc_dict = {'a': ['apple', 'air'], 'b': ['banana', 'book'] , 'c' : ['cherry', 'car']}\n",
        "a1=input(\"alphabet : \")\n",
        "a2=abc_dict[a1][0]\n",
        "a3=abc_dict[a1][1]\n",
        "print(f'{a1} is {a2}, {a1} is {a3}')"
      ],
      "metadata": {
        "id": "_LNc0bKKrtCn",
        "colab": {
          "base_uri": "https://localhost:8080/"
        },
        "outputId": "1b4c44ef-44e4-4b55-be85-1c05f54589f2"
      },
      "execution_count": null,
      "outputs": [
        {
          "output_type": "stream",
          "name": "stdout",
          "text": [
            "alphabet : a\n",
            "a is apple, a is air\n"
          ]
        }
      ]
    },
    {
      "cell_type": "markdown",
      "source": [],
      "metadata": {
        "id": "IQGEMCNykOne"
      }
    },
    {
      "cell_type": "markdown",
      "source": [
        "**예제 19**\n",
        "\n",
        "아래와 같이 딕셔너리가 정의되어 있습니다. 알파벳을 입력하면 아래와 같은 실행 결과를 내는 코드를 작성하세요.\n",
        "\n",
        "```\n",
        "abc_dict = {'a': ['apple', 'air'], 'b': ['banana', 'book'] , 'c' : ['cherry', 'car']}\n",
        "```\n",
        "\n",
        "* 실행 결과\n",
        "```\n",
        ">> alphabet : a\n",
        "a is Apple, a is Air\n",
        "```\n",
        "\n",
        "* 실행 결과\n",
        "```\n",
        ">> alphabet : b\n",
        "b is Banana, b is Book\n",
        "```\n"
      ],
      "metadata": {
        "id": "AUslSi-ct6w2"
      }
    },
    {
      "cell_type": "code",
      "source": [
        "abc_dict = {'a': ['apple', 'air'], 'b': ['banana', 'book'] , 'c' : ['cherry', 'car']}\n",
        "a1=input(\"alphabet : \")\n",
        "a2=abc_dict[a1][0].capitalize()\n",
        "a3=abc_dict[a1][1].capitalize()\n",
        "print(f'{a1} is {a2}, {a1} is {a3}')"
      ],
      "metadata": {
        "id": "ZM8oRmBPt6w8",
        "colab": {
          "base_uri": "https://localhost:8080/"
        },
        "outputId": "be942535-0474-46ae-facb-001201510522"
      },
      "execution_count": null,
      "outputs": [
        {
          "output_type": "stream",
          "name": "stdout",
          "text": [
            "alphabet : a\n",
            "a is Apple, a is Air\n"
          ]
        }
      ]
    },
    {
      "cell_type": "markdown",
      "source": [
        "**예제 20**\n",
        "\n",
        "아래와 같이 딕셔너리가 정의되어 있습니다. 알파벳을 입력하면 아래와 같은 실행 결과를 내는 코드를 작성하세요.\n",
        "\n",
        "```\n",
        "abc_dict = {'a': ['apple', 'air'], 'b': ['banana', 'book'] , 'c' : ['cherry', 'car']}\n",
        "```\n",
        "\n",
        "* 실행 결과\n",
        "```\n",
        ">> alphabet : a\n",
        ">> num : 0\n",
        "a is Apple\n",
        "```\n",
        "\n",
        "* 실행 결과\n",
        "```\n",
        ">> alphabet : b\n",
        ">> num : 1\n",
        "b is Book\n",
        "```\n"
      ],
      "metadata": {
        "id": "xTC4HPlzuF-i"
      }
    },
    {
      "cell_type": "code",
      "source": [
        "abc_dict = {'a': ['apple', 'air'], 'b': ['banana', 'book'] , 'c' : ['cherry', 'car']}\n",
        "a1=input(\"alphabet : \")\n",
        "n1=input(\"num : \")\n",
        "a2=abc_dict[a1][int(n1)].capitalize()\n",
        "print(f'{a1} is {a2}')"
      ],
      "metadata": {
        "id": "TMyWR9-buF-p",
        "colab": {
          "base_uri": "https://localhost:8080/"
        },
        "outputId": "068e7a75-dd1d-4157-94d8-faf5697eb080"
      },
      "execution_count": null,
      "outputs": [
        {
          "output_type": "stream",
          "name": "stdout",
          "text": [
            "alphabet : b\n",
            "num : 1\n",
            "b is Book\n"
          ]
        }
      ]
    },
    {
      "cell_type": "code",
      "source": [],
      "metadata": {
        "id": "sZyJUeo5lbm9"
      },
      "execution_count": null,
      "outputs": []
    }
  ]
}