{
  "nbformat": 4,
  "nbformat_minor": 0,
  "metadata": {
    "colab": {
      "name": "2-1.파이썬의 자료형:숫자.ipynb",
      "provenance": [],
      "toc_visible": true,
      "include_colab_link": true
    },
    "kernelspec": {
      "name": "python3",
      "display_name": "Python 3"
    },
    "language_info": {
      "name": "python"
    }
  },
  "cells": [
    {
      "cell_type": "markdown",
      "metadata": {
        "id": "view-in-github",
        "colab_type": "text"
      },
      "source": [
        "<a href=\"https://colab.research.google.com/github/CescFabregas4/SkillTreePython/blob/main/2_1_%ED%8C%8C%EC%9D%B4%EC%8D%AC%EC%9D%98_%EC%9E%90%EB%A3%8C%ED%98%95_%EC%88%AB%EC%9E%90.ipynb\" target=\"_parent\"><img src=\"https://colab.research.google.com/assets/colab-badge.svg\" alt=\"Open In Colab\"/></a>"
      ]
    },
    {
      "cell_type": "markdown",
      "source": [
        "# 2-1.파이썬의 자료형:숫자\n",
        "---\n",
        "* 날짜: 2022-12-26\n",
        "* 이름: 김형근"
      ],
      "metadata": {
        "id": "kB5IciXEm6o4"
      }
    },
    {
      "cell_type": "markdown",
      "source": [
        "## 개념정리\n",
        "---\n",
        "\n",
        "\n",
        "코드를 작성하면서 우리는 다양한 데이터 자료형을 접하게 됩니다. 그 중 수치 자료형은 개수, 가격, 날짜 등 여러가지 데이터를 효과적으로 처리할 수 있습니다. 수치 자료형에 대해 알아보고 데이터 타입이 수치 자료형일 때 어떤 부가적인 연산들을 수행할 수 있는지 알아보도록 합니다. "
      ],
      "metadata": {
        "id": "4iN8NFzHRJ2D"
      }
    },
    {
      "cell_type": "markdown",
      "source": [
        "### (1) 수치자료형의 종류\n",
        "\n",
        "\n",
        "\n"
      ],
      "metadata": {
        "id": "UKlkHH0IRL5h"
      }
    },
    {
      "cell_type": "markdown",
      "source": [
        "#### **정수 `int`**\n",
        "정수형 자료형은 `int` 로 표시 됩니다. -1,-2, ... 0 , 1, 2 ,...  등 정수값을 나타냅니다. \n",
        "```\n",
        "num = 2\n",
        "print(num, type(num))\n",
        "```\n",
        "\n",
        "\n"
      ],
      "metadata": {
        "id": "opbfNksrAq4P"
      }
    },
    {
      "cell_type": "code",
      "source": [
        "num = 2\n",
        "print(num, type(num))"
      ],
      "metadata": {
        "id": "0LEqDvQhtLwP",
        "outputId": "2cf12ab7-8aa6-46fd-b7c0-8d4cd5a817e6",
        "colab": {
          "base_uri": "https://localhost:8080/"
        }
      },
      "execution_count": 1,
      "outputs": [
        {
          "output_type": "stream",
          "name": "stdout",
          "text": [
            "2 <class 'int'>\n"
          ]
        }
      ]
    },
    {
      "cell_type": "markdown",
      "source": [
        "#### **실수 `float`**\n",
        "실수값은 `float`으로 표시 됩니다. 3.0, 3.1 , ... 등 실수값을 나타냅니다. \n",
        "```\n",
        "num = -0.2\n",
        "print(num, type(num))\n",
        "```"
      ],
      "metadata": {
        "id": "DbjTishvtQNU"
      }
    },
    {
      "cell_type": "code",
      "source": [
        "num = -0.2\n",
        "print(num, type(num))"
      ],
      "metadata": {
        "id": "b2HTH0H1tS68",
        "outputId": "78af8aca-e5d6-4037-ae2b-dd5263bce3d7",
        "colab": {
          "base_uri": "https://localhost:8080/"
        }
      },
      "execution_count": 2,
      "outputs": [
        {
          "output_type": "stream",
          "name": "stdout",
          "text": [
            "-0.2 <class 'float'>\n"
          ]
        }
      ]
    },
    {
      "cell_type": "markdown",
      "source": [
        "#### **복소수 `complex`**\n",
        "복소수는 제곱했을 때 음수가 되는 수입니다. 아래와 같이 정의할 수 있습니다.\n",
        "```\n",
        "num = 1+4j\n",
        "print(num, type(num))\n",
        "```"
      ],
      "metadata": {
        "id": "X2i8usALtUJL"
      }
    },
    {
      "cell_type": "code",
      "source": [
        "num = 1+4j\n",
        "print(num, type(num))"
      ],
      "metadata": {
        "id": "I37szg1RtXXE",
        "outputId": "b0cb6d2e-50a4-4a90-8400-b2eee99e6ec8",
        "colab": {
          "base_uri": "https://localhost:8080/"
        }
      },
      "execution_count": 3,
      "outputs": [
        {
          "output_type": "stream",
          "name": "stdout",
          "text": [
            "(1+4j) <class 'complex'>\n"
          ]
        }
      ]
    },
    {
      "cell_type": "markdown",
      "source": [
        "복소수 자료형 경우  파이썬 내장 함수를 통해 실수값, 허수값, 컬례 복소수 등을 알 수 있습니다.\n",
        "\n",
        "* `.real` : 복소수의 실수값을 확인합니다.\n",
        "\n",
        "```\n",
        "print(num.real)\n",
        "```\n"
      ],
      "metadata": {
        "id": "7zHbFccVtaFY"
      }
    },
    {
      "cell_type": "code",
      "source": [],
      "metadata": {
        "id": "iLhCsBONdsam"
      },
      "execution_count": null,
      "outputs": []
    },
    {
      "cell_type": "markdown",
      "source": [
        "\n",
        "* `.imag`: 복소수의 허수값을 확인합니다.\n",
        "\n",
        "```\n",
        "print(num.imag) # 허수값\n",
        "```\n"
      ],
      "metadata": {
        "id": "RR0Kdb6Ydsmt"
      }
    },
    {
      "cell_type": "code",
      "source": [],
      "metadata": {
        "id": "tD46aK3Ndtkr"
      },
      "execution_count": null,
      "outputs": []
    },
    {
      "cell_type": "markdown",
      "source": [
        "\n",
        "* `.conjugate()`: 복소수의 컬례복소수를 확인합니다.\n",
        "\n",
        "```\n",
        "print(num.conjugate()) # 컬례복소수\n",
        "```"
      ],
      "metadata": {
        "id": "0dLg3PeDdt-f"
      }
    },
    {
      "cell_type": "code",
      "source": [],
      "metadata": {
        "id": "KTZ6dBVEta78"
      },
      "execution_count": null,
      "outputs": []
    },
    {
      "cell_type": "markdown",
      "source": [
        "### (2) 수치자료형의 타입 변환\n",
        "\n",
        "수치자료형의 타입을 변환 할 수 있습니다. 아래와 같이 `a`를 값 1인 정수값으로 정의합시다.\n",
        "\n",
        "```\n",
        "a=1\n",
        "a, type(a)\n",
        "```"
      ],
      "metadata": {
        "id": "tTuhebzSy8w8"
      }
    },
    {
      "cell_type": "code",
      "source": [
        "a=1\n",
        "a, type(a)"
      ],
      "metadata": {
        "id": "mR3gG9It2SD3",
        "outputId": "136939d9-2943-4813-91fa-8384cdda205f",
        "colab": {
          "base_uri": "https://localhost:8080/"
        }
      },
      "execution_count": 4,
      "outputs": [
        {
          "output_type": "execute_result",
          "data": {
            "text/plain": [
              "(1, int)"
            ]
          },
          "metadata": {},
          "execution_count": 4
        }
      ]
    },
    {
      "cell_type": "markdown",
      "source": [
        "현재 `int` 타입인 값을 `float`으로 변환해보도록 합시다.\n",
        "\n",
        "```\n",
        "a = float(a)\n",
        "print(a, type(a))\n",
        "```"
      ],
      "metadata": {
        "id": "kfSac_Bj_ttS"
      }
    },
    {
      "cell_type": "code",
      "source": [
        "a = float(a)\n",
        "a, type(a)"
      ],
      "metadata": {
        "id": "RScoLai_4UA9",
        "outputId": "962ac6ae-6a5a-47c6-8a75-97d64ab0a7a1",
        "colab": {
          "base_uri": "https://localhost:8080/"
        }
      },
      "execution_count": 5,
      "outputs": [
        {
          "output_type": "execute_result",
          "data": {
            "text/plain": [
              "(1.0, float)"
            ]
          },
          "metadata": {},
          "execution_count": 5
        }
      ]
    },
    {
      "cell_type": "markdown",
      "source": [
        "다시 `int` 로 변환 해봅시다.\n",
        "\n",
        "```\n",
        "a = int(a)\n",
        "print(a, type(a))\n",
        "```"
      ],
      "metadata": {
        "id": "yCd_3r26_3ik"
      }
    },
    {
      "cell_type": "code",
      "source": [
        "#1.5=int(1.5)\n",
        "#1.6=int(1.6)\n",
        "a=2.4\n",
        "b=2.5\n",
        "c=2.6\n",
        "int(a),int(b),int(c) #내림"
      ],
      "metadata": {
        "id": "HIuhv_bv_3in",
        "outputId": "856b090d-0d81-40ff-e8a1-97e0308e2b46",
        "colab": {
          "base_uri": "https://localhost:8080/"
        }
      },
      "execution_count": 10,
      "outputs": [
        {
          "output_type": "execute_result",
          "data": {
            "text/plain": [
              "(2, 2, 2)"
            ]
          },
          "metadata": {},
          "execution_count": 10
        }
      ]
    },
    {
      "cell_type": "markdown",
      "source": [
        "참고로 문자형과도 변환이 가능합니다.\n",
        "\n",
        "```\n",
        "a = str(a)\n",
        "print(a, type(a))\n",
        "```"
      ],
      "metadata": {
        "id": "eY5X8k7nCDpL"
      }
    },
    {
      "cell_type": "code",
      "source": [
        "a = str(a)\n",
        "print(a, type(a))"
      ],
      "metadata": {
        "id": "0AhlUfUvCDpL",
        "outputId": "b1a82550-dcfe-4c61-90f7-23e0a97a6a4c",
        "colab": {
          "base_uri": "https://localhost:8080/"
        }
      },
      "execution_count": 11,
      "outputs": [
        {
          "output_type": "stream",
          "name": "stdout",
          "text": [
            "2.4 <class 'str'>\n"
          ]
        }
      ]
    },
    {
      "cell_type": "markdown",
      "source": [
        "### (3) 산술연산자\n",
        "\n",
        "수치 자료형은 각종 산술연산이 가능합니다. 우리가 일반적으로 쓰는 덧셈, 뺄셈, 곱셉, 나눈셈을 수행해 보겠습니다. 아래 코드를 따라 쓰고 무엇이 나오는지 예측해 봅니다"
      ],
      "metadata": {
        "id": "PtSek8BAtiOx"
      }
    },
    {
      "cell_type": "markdown",
      "source": [
        "*  `+` 더하기\n",
        "\n",
        "```\n",
        "2+2\n",
        "```"
      ],
      "metadata": {
        "id": "EbG9oc_5tmB8"
      }
    },
    {
      "cell_type": "code",
      "source": [
        "print(2+2)"
      ],
      "metadata": {
        "id": "o8tsqP0XtmVT",
        "outputId": "012de3c7-93a2-4be6-9968-902f0e329298",
        "colab": {
          "base_uri": "https://localhost:8080/"
        }
      },
      "execution_count": 13,
      "outputs": [
        {
          "output_type": "stream",
          "name": "stdout",
          "text": [
            "4\n"
          ]
        }
      ]
    },
    {
      "cell_type": "markdown",
      "source": [
        "*   `-` 빼기\n",
        "\n",
        "```\n",
        "2-2\n",
        "```\n"
      ],
      "metadata": {
        "id": "73VOGRGqtpHM"
      }
    },
    {
      "cell_type": "code",
      "source": [
        "print(2-2)"
      ],
      "metadata": {
        "id": "5pVh9h6rtyNN",
        "outputId": "9409c9a1-2ac4-45a2-86a7-893141bc9784",
        "colab": {
          "base_uri": "https://localhost:8080/"
        }
      },
      "execution_count": 14,
      "outputs": [
        {
          "output_type": "stream",
          "name": "stdout",
          "text": [
            "0\n"
          ]
        }
      ]
    },
    {
      "cell_type": "markdown",
      "source": [
        "*  `*` 곱하기\n",
        "  \n",
        "```\n",
        "2*2\n",
        "```"
      ],
      "metadata": {
        "id": "WfjAvOO_t1Sn"
      }
    },
    {
      "cell_type": "code",
      "source": [
        "print(2*2)"
      ],
      "metadata": {
        "id": "rKG3lqZJt6aD",
        "outputId": "1ff650f4-92d5-4281-b6dd-a7a66ca567fe",
        "colab": {
          "base_uri": "https://localhost:8080/"
        }
      },
      "execution_count": 15,
      "outputs": [
        {
          "output_type": "stream",
          "name": "stdout",
          "text": [
            "4\n"
          ]
        }
      ]
    },
    {
      "cell_type": "markdown",
      "source": [
        "*  `**` 제곱\n",
        "\n",
        "```\n",
        "2**2\n",
        "```\n"
      ],
      "metadata": {
        "id": "htPsV_JAt2hb"
      }
    },
    {
      "cell_type": "code",
      "source": [
        "print(2**2)"
      ],
      "metadata": {
        "id": "4kbSrnvNt6zp",
        "outputId": "6d9126a2-2c0f-4f17-de35-d7e4401bc6c1",
        "colab": {
          "base_uri": "https://localhost:8080/"
        }
      },
      "execution_count": 16,
      "outputs": [
        {
          "output_type": "stream",
          "name": "stdout",
          "text": [
            "4\n"
          ]
        }
      ]
    },
    {
      "cell_type": "markdown",
      "source": [
        "\n",
        "*  `/` 나누기\n",
        "\n",
        "```\n",
        "2/2\n",
        "```"
      ],
      "metadata": {
        "id": "rqGwmZiut3aV"
      }
    },
    {
      "cell_type": "code",
      "source": [
        "print(2/2)"
      ],
      "metadata": {
        "id": "6ontYOp7t7Mb",
        "outputId": "25fb0d02-797a-4cea-cc33-3a6b6cf39de1",
        "colab": {
          "base_uri": "https://localhost:8080/"
        }
      },
      "execution_count": 17,
      "outputs": [
        {
          "output_type": "stream",
          "name": "stdout",
          "text": [
            "1.0\n"
          ]
        }
      ]
    },
    {
      "cell_type": "markdown",
      "source": [
        "*  `//` 몫\n",
        "\n",
        "```\n",
        "2//2\n",
        "```"
      ],
      "metadata": {
        "id": "cGP6uK5mt4dm"
      }
    },
    {
      "cell_type": "code",
      "source": [
        "print(2//2)"
      ],
      "metadata": {
        "id": "7LiMjLh5t7pD",
        "outputId": "2278bb42-6c21-4ff4-b796-6d23e425104c",
        "colab": {
          "base_uri": "https://localhost:8080/"
        }
      },
      "execution_count": 18,
      "outputs": [
        {
          "output_type": "stream",
          "name": "stdout",
          "text": [
            "1\n"
          ]
        }
      ]
    },
    {
      "cell_type": "markdown",
      "source": [
        "* `%` 나머지\n",
        "\n",
        "```\n",
        "2%2\n",
        "```\n"
      ],
      "metadata": {
        "id": "SRudXVcNt5GW"
      }
    },
    {
      "cell_type": "code",
      "source": [
        "print(1557%2) #생각보다 자주 나온다고합니다"
      ],
      "metadata": {
        "id": "f6CZv0bFt79-",
        "outputId": "4947a292-326f-445c-e6f2-a2c330000c7b",
        "colab": {
          "base_uri": "https://localhost:8080/"
        }
      },
      "execution_count": 21,
      "outputs": [
        {
          "output_type": "stream",
          "name": "stdout",
          "text": [
            "1\n"
          ]
        }
      ]
    },
    {
      "cell_type": "markdown",
      "source": [
        "### **(4) 할당 연산자**\n",
        "\n",
        "할당연산자는 값을 변수에 바로 할당하는 연산자 입니다. 할당이란 것은 바인딩과 동일한 의미입니다. 따라서 `=` 이 기호는 할당연산자 라고 할 수 있습니다. 그러나 `=` 말고도 할당연산자는 몇개 더 있습니다. \n",
        "\n",
        "| 기호 | 뜻 |\n",
        "|--|--|\n",
        "|`+=`| 더한 후 대입 |\n",
        "|`-=`| 뺀 후  대입 |\n",
        "|`*=`| 곱한 후 대입 |\n",
        "|`**=`| 제곱 후 대입 |\n",
        "|`/=`| 나눈 후 대입 |\n",
        "|`//=`| 나눈 후 몫을 대입 |\n",
        "|`%=`| 나눈 후 나머지 대입 |\n"
      ],
      "metadata": {
        "id": "URp5HnPyAUf-"
      }
    },
    {
      "cell_type": "markdown",
      "source": [
        "#### **더한 후 대입하기**\n",
        "\n",
        "\n",
        "* `+=`\n",
        "\n",
        "```\n",
        "a = 5\n",
        "b = 2\n",
        "a += b # 할당연산자 사용  `a = a+b` 과 동일\n",
        "print(a)\n",
        "```\n"
      ],
      "metadata": {
        "id": "evZqLrJBAX8z"
      }
    },
    {
      "cell_type": "code",
      "source": [
        "a = 7\n",
        "b = 2\n",
        "a += b # 할당연산자 사용  `a = a+b` 과 동일\n",
        "print(a)"
      ],
      "metadata": {
        "id": "66psqHA-Aduu",
        "outputId": "3298581d-abb5-4e9f-c992-0dbff22de49e",
        "colab": {
          "base_uri": "https://localhost:8080/"
        }
      },
      "execution_count": 23,
      "outputs": [
        {
          "output_type": "stream",
          "name": "stdout",
          "text": [
            "9\n"
          ]
        }
      ]
    },
    {
      "cell_type": "markdown",
      "source": [
        "#### **뺀 후 대입하기**\n",
        "\n",
        "* `-=`\n",
        "\n",
        "```\n",
        "a = 5\n",
        "b = 2\n",
        "a -= b # 할당연산자 사용  `a = a-b` 과 동일\n",
        "print(a)\n",
        "```"
      ],
      "metadata": {
        "id": "mX3PEz11Afq_"
      }
    },
    {
      "cell_type": "code",
      "source": [
        "a = 5\n",
        "b = 2\n",
        "a -= b # 할당연산자 사용  `a = a-b` 과 동일\n",
        "print(a)"
      ],
      "metadata": {
        "id": "OGWSGrzNAfb6",
        "outputId": "f39859e7-144a-4f14-c510-a48cd432abb3",
        "colab": {
          "base_uri": "https://localhost:8080/"
        }
      },
      "execution_count": 24,
      "outputs": [
        {
          "output_type": "stream",
          "name": "stdout",
          "text": [
            "3\n"
          ]
        }
      ]
    },
    {
      "cell_type": "markdown",
      "source": [
        "#### **곱한 후 대입하기**\n",
        "\n",
        "* `*=`\n",
        "\n",
        "```\n",
        "a = 5\n",
        "b = 2\n",
        "a *= b # 할당연산자 사용  `a = a*b` 과 동일\n",
        "print(a)\n",
        "```"
      ],
      "metadata": {
        "id": "SNkIoHeHDIUM"
      }
    },
    {
      "cell_type": "code",
      "source": [
        "a = 5\n",
        "b = 2\n",
        "a *= b # 할당연산자 사용  `a = a*b` 과 동일\n",
        "print(a)"
      ],
      "metadata": {
        "id": "az6FzkQuDKym",
        "outputId": "27121323-6aa1-41a9-ae67-df217b9a2fcc",
        "colab": {
          "base_uri": "https://localhost:8080/"
        }
      },
      "execution_count": 25,
      "outputs": [
        {
          "output_type": "stream",
          "name": "stdout",
          "text": [
            "10\n"
          ]
        }
      ]
    },
    {
      "cell_type": "markdown",
      "source": [
        "#### **제곱 후 대입하기**\n",
        "\n",
        "* `**=`\n",
        "\n",
        "```\n",
        "a = 5\n",
        "b = 2\n",
        "a **= b # 할당연산자 사용  `a = a**b` 과 동일\n",
        "print(a)\n",
        "```"
      ],
      "metadata": {
        "id": "Evcg80s5DPC4"
      }
    },
    {
      "cell_type": "code",
      "source": [
        "a=10\n",
        "b=3\n",
        "a**=b\n",
        "print(a)"
      ],
      "metadata": {
        "id": "hpE25qg0DPyP",
        "outputId": "b2b255a5-eb89-40d7-9003-153ca4395ed1",
        "colab": {
          "base_uri": "https://localhost:8080/"
        }
      },
      "execution_count": 29,
      "outputs": [
        {
          "output_type": "stream",
          "name": "stdout",
          "text": [
            "1000\n"
          ]
        }
      ]
    },
    {
      "cell_type": "markdown",
      "source": [
        "#### **나눈 후 대입하기**\n",
        "\n",
        "* `/=`\n",
        "\n",
        "```\n",
        "a = 5\n",
        "b = 2\n",
        "a /= b # 할당연산자 사용  `a = a/b` 과 동일\n",
        "print(a)\n",
        "```"
      ],
      "metadata": {
        "id": "20DMtEcLDTMm"
      }
    },
    {
      "cell_type": "code",
      "source": [],
      "metadata": {
        "id": "RyR5M61DDVPv"
      },
      "execution_count": null,
      "outputs": []
    },
    {
      "cell_type": "markdown",
      "source": [
        "#### **나눈 후 몫을 대입하기**\n",
        "\n",
        "* `//=`\n",
        "\n",
        "```\n",
        "a = 5\n",
        "b = 2\n",
        "a //= b # 할당연산자 사용  `a = a//b` 과 동일\n",
        "print(a)\n",
        "```"
      ],
      "metadata": {
        "id": "hbXeSlqoD8o3"
      }
    },
    {
      "cell_type": "code",
      "source": [],
      "metadata": {
        "id": "umWFbBJBEBBt"
      },
      "execution_count": null,
      "outputs": []
    },
    {
      "cell_type": "markdown",
      "source": [
        "### 나눈 후 나머지를 대입하기\n",
        "\n",
        "* `%=`\n",
        "\n",
        "```\n",
        "a = 5\n",
        "b = 2\n",
        "a %= b # 할당연산자 사용  `a = a%b` 과 동일\n",
        "print(a)\n",
        "```"
      ],
      "metadata": {
        "id": "27IOeqppEBRj"
      }
    },
    {
      "cell_type": "code",
      "source": [
        "a=5\n",
        "b=2\n",
        "a%=b\n",
        "print(a)"
      ],
      "metadata": {
        "id": "bShKWVX-EDNf",
        "outputId": "1c20c224-366f-4bb7-9842-56e3beb8fa28",
        "colab": {
          "base_uri": "https://localhost:8080/"
        }
      },
      "execution_count": 30,
      "outputs": [
        {
          "output_type": "stream",
          "name": "stdout",
          "text": [
            "1\n"
          ]
        }
      ]
    },
    {
      "cell_type": "markdown",
      "source": [
        "## 문제풀이\n",
        "---\n",
        "\n",
        "**예제 01**\n",
        "\n",
        "아래 코드의 실행 결과를 예상하고 출력해보세요\n",
        "\n",
        "```\n",
        "2+5-3*5\n",
        "```\n"
      ],
      "metadata": {
        "id": "HgrXNsFnwp_m"
      }
    },
    {
      "cell_type": "code",
      "source": [
        "print(2+5-3*5)"
      ],
      "metadata": {
        "id": "U8ehercCwsP8",
        "outputId": "beeded40-094b-46aa-8368-29d7a7637719",
        "colab": {
          "base_uri": "https://localhost:8080/"
        }
      },
      "execution_count": 31,
      "outputs": [
        {
          "output_type": "stream",
          "name": "stdout",
          "text": [
            "-8\n"
          ]
        }
      ]
    },
    {
      "cell_type": "markdown",
      "source": [
        "**예제 02**\n",
        "\n",
        "아래 코드의 실행 결과를 예상하고 출력해보세요\n",
        "```\n",
        "print(10/2)\n",
        "print(10%2)\n",
        "print(11%2)\n",
        "print(12%2)\n",
        "print(13%2)\n",
        "print(14%2)\n",
        "```"
      ],
      "metadata": {
        "id": "Bd7MAhfZwuYL"
      }
    },
    {
      "cell_type": "code",
      "source": [
        "#첫번째 코드는 나누기이고 나머지 코드는 나머지이다 짝수는 0 홀수는 1 일 것이다.\n",
        "print(10/2)\n",
        "print(10%2)\n",
        "print(11%2)\n",
        "print(12%2)\n",
        "print(13%2)\n",
        "print(14%2)"
      ],
      "metadata": {
        "id": "04JSAGa2wvXN",
        "outputId": "e3d533e3-577d-44c4-8d63-fe2e9e3fa1ac",
        "colab": {
          "base_uri": "https://localhost:8080/"
        }
      },
      "execution_count": 32,
      "outputs": [
        {
          "output_type": "stream",
          "name": "stdout",
          "text": [
            "5.0\n",
            "0\n",
            "1\n",
            "0\n",
            "1\n",
            "0\n"
          ]
        }
      ]
    },
    {
      "cell_type": "markdown",
      "source": [
        "**예제 03**\n",
        "\n",
        "`예제 02` 를 기반으로 `int` 값중 짝수와 홀수를 판별하는 방법을 제안하세요\n"
      ],
      "metadata": {
        "id": "ndVmQUdcwwbH"
      }
    },
    {
      "cell_type": "code",
      "source": [
        "#int 값에 %2를 했을때 나머지가 0이면 짝수,1이면 홀수일 것이다."
      ],
      "metadata": {
        "id": "BA7Glui4wyJx"
      },
      "execution_count": null,
      "outputs": []
    },
    {
      "cell_type": "markdown",
      "source": [
        "**예제 04**\n",
        "\n",
        "정수기가 월 30,000원에 무이자할부 5년 조건으로 판매되고 있습니다. 총 금액을 계산한 후 이를 화면에 출력해보세요. (변수사용하기)"
      ],
      "metadata": {
        "id": "BiJgJpfvwwdj"
      }
    },
    {
      "cell_type": "code",
      "source": [
        "a=30000\n",
        "b=60\n",
        "c=a*b\n",
        "print(c)"
      ],
      "metadata": {
        "id": "e_RllwoewzQs",
        "outputId": "ef1014bd-c16f-4083-d241-9028f14d9144",
        "colab": {
          "base_uri": "https://localhost:8080/"
        }
      },
      "execution_count": 37,
      "outputs": [
        {
          "output_type": "stream",
          "name": "stdout",
          "text": [
            "1800000\n"
          ]
        }
      ]
    },
    {
      "cell_type": "markdown",
      "source": [
        "**예제 05** \n",
        "\n",
        "변수가 아래와 같이 선언되어 있습니다. 각 변수들끼리 서로 더한 결과를 정리하세요\n",
        "\n",
        "```\n",
        "a = 5 \n",
        "b = 3.14 \n",
        "c = 3 + 4j\n",
        "```"
      ],
      "metadata": {
        "id": "wP9-y-apw030"
      }
    },
    {
      "cell_type": "code",
      "source": [
        "a = 5 \n",
        "b = 3.14 \n",
        "c = 3 + 4j\n",
        "print(a+b)\n",
        "print(a+c)\n",
        "print(b+c)\n"
      ],
      "metadata": {
        "id": "CQRbhmUMyq69",
        "outputId": "e7132452-73d5-48ff-aa73-97228e00924c",
        "colab": {
          "base_uri": "https://localhost:8080/"
        }
      },
      "execution_count": 77,
      "outputs": [
        {
          "output_type": "stream",
          "name": "stdout",
          "text": [
            "8.14\n",
            "(8+4j)\n",
            "(6.140000000000001+4j)\n"
          ]
        }
      ]
    },
    {
      "cell_type": "markdown",
      "source": [
        "**예제 06**\n",
        "\n",
        "아래 결과를 예측하세요\n",
        "\n",
        "\n",
        "```\n",
        "a= 1\n",
        "a= a+1\n",
        "a= a**3\n",
        "print(a)\n",
        "```"
      ],
      "metadata": {
        "id": "AqR7zhPaw145"
      }
    },
    {
      "cell_type": "code",
      "source": [
        "#a에 1을 더하고 세제곱을하면 8이다.\n",
        "a= 1\n",
        "a= a+1\n",
        "a= a**3\n",
        "print(a)"
      ],
      "metadata": {
        "id": "kIXwdd_nyrkR",
        "outputId": "d42baba2-2747-4d6f-f192-d59fb3baedd6",
        "colab": {
          "base_uri": "https://localhost:8080/",
          "height": 137
        }
      },
      "execution_count": 75,
      "outputs": [
        {
          "output_type": "error",
          "ename": "SyntaxError",
          "evalue": "ignored",
          "traceback": [
            "\u001b[0;36m  File \u001b[0;32m\"<ipython-input-75-20c85540a6b1>\"\u001b[0;36m, line \u001b[0;32m1\u001b[0m\n\u001b[0;31m    a에 1을 더하고 세제곱을하면 8이다.\u001b[0m\n\u001b[0m       ^\u001b[0m\n\u001b[0;31mSyntaxError\u001b[0m\u001b[0;31m:\u001b[0m invalid syntax\n"
          ]
        }
      ]
    },
    {
      "cell_type": "markdown",
      "source": [
        "**예제 07**\n",
        "\n",
        "아래 결과를 예측하세요\n",
        "\n",
        "\n",
        "```\n",
        "a= 1+3j\n",
        "b= a.real\n",
        "print(b%2)\n",
        "```\n"
      ],
      "metadata": {
        "id": "ey2pYPv4yYBp"
      }
    },
    {
      "cell_type": "code",
      "source": [
        "#b는 a의 실수값이므로 1이고 1을 2로 나누면 나머지는 1일 것이다.\n",
        "a= 1+3j\n",
        "b= a.real\n",
        "print(b%2)"
      ],
      "metadata": {
        "id": "yanJRKU-yr8r",
        "outputId": "e54d0d6f-4785-4a15-9401-16006b7d216e",
        "colab": {
          "base_uri": "https://localhost:8080/"
        }
      },
      "execution_count": 41,
      "outputs": [
        {
          "output_type": "stream",
          "name": "stdout",
          "text": [
            "1.0\n"
          ]
        }
      ]
    },
    {
      "cell_type": "markdown",
      "source": [
        "**예제 08**\n",
        "\n",
        "아래와 같이 주가와 주식개수를 인풋으로 받아 평가금액을 출력하는 코드를 작성하세요\n",
        "\n",
        "```\n",
        ">> 주가: 10000\n",
        ">> 주식개수: 3\n",
        "평가금액은 30000원 입니다.\n",
        "```"
      ],
      "metadata": {
        "id": "wyBij9C6yZDw"
      }
    },
    {
      "cell_type": "code",
      "source": [
        "face_value=input(\"주가: \")\n",
        "stocks=input(\"주식개수: \")\n",
        "price=int(face_value)*int(stocks)\n",
        "print(\"평가금액은 \",price,\"원 입니다.\",sep='')"
      ],
      "metadata": {
        "id": "M60QJ7V5ysav",
        "outputId": "ba56c37f-eed5-462e-9cfa-df354d8f51b0",
        "colab": {
          "base_uri": "https://localhost:8080/"
        }
      },
      "execution_count": 45,
      "outputs": [
        {
          "output_type": "stream",
          "name": "stdout",
          "text": [
            "주가: 10000\n",
            "주식개수: 3\n",
            "평가금액은 30000원 입니다.\n"
          ]
        }
      ]
    },
    {
      "cell_type": "markdown",
      "source": [
        "33**예제 09**\n",
        "\n",
        "아래와 같이 복소수(complex)를 입력하면 실수값과 허수값, 실수값과 허수값을 알려주는 코드를 작성하세요.\n",
        "\n",
        "```\n",
        ">> 복소수를 입력하세요: 1+5j\n",
        "실수값은 1, 허수값은 5입니다. \n",
        "```"
      ],
      "metadata": {
        "id": "HTFQuWVeyaS4"
      }
    },
    {
      "cell_type": "code",
      "source": [
        "complex1=input(\"복소수를 입력하세요:\")\n",
        "complex1=complex(complex1)\n",
        "print(\"실수값은\",complex1.real,\"허수값은\",complex1.imag,\"입니다.\")"
      ],
      "metadata": {
        "id": "2vGeOjbwys2C",
        "outputId": "7ed8b1a1-7223-418f-d1b5-cb7ca9f5bf54",
        "colab": {
          "base_uri": "https://localhost:8080/"
        }
      },
      "execution_count": 74,
      "outputs": [
        {
          "output_type": "stream",
          "name": "stdout",
          "text": [
            "복소수를 입력하세요:1+5j\n",
            "실수값은 1.0 허수값은 5.0 입니다.\n"
          ]
        }
      ]
    },
    {
      "cell_type": "markdown",
      "source": [
        "**예제 10**\n",
        "\n",
        "아래와 같이 정수(int)를 입력하면 제곱값과 세제곱값을 출력하는 코드를 작성하세요.\n",
        "\n",
        "```\n",
        ">> 숫자를 입력하세요: 5\n",
        "5의 제곱은 25이고 세제곱은 125 입니다.\n",
        "```\n"
      ],
      "metadata": {
        "id": "qrPmvCY7ybVA"
      }
    },
    {
      "cell_type": "code",
      "source": [
        "p1=input(\"숫자를 입력하세요: \")\n",
        "p2=int(p1)**2\n",
        "p3=int(p1)**3\n",
        "print(p1,\"의 제곱은 \",p2,\"이고 세제곱은 \",p3,\" 입니다.\", sep='')"
      ],
      "metadata": {
        "id": "PigOmcgwyyhj",
        "outputId": "3a19f89a-38ef-48d2-b316-abff3e8a09c4",
        "colab": {
          "base_uri": "https://localhost:8080/"
        }
      },
      "execution_count": 58,
      "outputs": [
        {
          "output_type": "stream",
          "name": "stdout",
          "text": [
            "숫자를 입력하세요: 5\n",
            "5의 제곱은 25이고 세제곱은 125 입니다.\n"
          ]
        }
      ]
    },
    {
      "cell_type": "markdown",
      "source": [
        "**예제 11**\n",
        "\n",
        "실수값(float)을 입력하면 실수값에 5를 더한 값을 출력하는 코드를 작성하세요\n",
        "\n",
        "```\n",
        ">> 실수값을 입력하세요: 5.11\n",
        "5를 더한 값은 10.11 입니다.\n",
        "```\n"
      ],
      "metadata": {
        "id": "r-6cOE9Uyce4"
      }
    },
    {
      "cell_type": "code",
      "source": [
        "yeze11=input(\"실수값을 입력하세요: \")\n",
        "yeze11=float(yeze11)+5\n",
        "print(\"5를 더한 값은\",yeze11,\"입니다.\")"
      ],
      "metadata": {
        "id": "wkoF8LTzy0g2",
        "outputId": "200e44e5-9359-4212-c9b6-b0dec76f954c",
        "colab": {
          "base_uri": "https://localhost:8080/"
        }
      },
      "execution_count": 67,
      "outputs": [
        {
          "output_type": "stream",
          "name": "stdout",
          "text": [
            "실수값을 입력하세요: 5.11\n",
            "5를 더한 값은 10.11 입니다.\n"
          ]
        }
      ]
    },
    {
      "cell_type": "markdown",
      "source": [
        "\n",
        "**예제 12**\n",
        "\n",
        "첫번째 숫자와 두번째 숫자를 입력하면 첫번째 숫자를 두번째 숫자로 나눈 몫과 나머지를 구하는 코드를 작성하세요\n",
        "\n",
        "```\n",
        ">> 첫번째 숫자: 10\n",
        ">> 두번째 숫자: 3\n",
        "10 나누기 3은 몫이 3이고 나머지는 1입니다.\n",
        "```"
      ],
      "metadata": {
        "id": "PrS_rt0xydlV"
      }
    },
    {
      "cell_type": "code",
      "source": [
        "num_1=input(\"첫번째 숫자: \")\n",
        "num_2=input(\"두번째 숫자: \")\n",
        "num_3=int(num_1)//int(num_2)\n",
        "num_4=int(num_1)%int(num_2)\n",
        "print(num_1,\"나누기 \",num_2,\"은 몫이 \",num_3,\"이고 나머지는 \",num_4,\"입니다.\", sep='')"
      ],
      "metadata": {
        "id": "1O9-xigHCaqb",
        "outputId": "0b99c0a8-ef9f-4d13-9fb1-ef5aff8fd37a",
        "colab": {
          "base_uri": "https://localhost:8080/"
        }
      },
      "execution_count": 72,
      "outputs": [
        {
          "output_type": "stream",
          "name": "stdout",
          "text": [
            "첫번째 숫자: 10\n",
            "두번째 숫자: 3\n",
            "10나누기 3은 몫이 3이고 나머지는 1입니다.\n"
          ]
        }
      ]
    },
    {
      "cell_type": "code",
      "source": [
        "3\n",
        "3"
      ],
      "metadata": {
        "id": "OCuvpHjZSHMO"
      },
      "execution_count": null,
      "outputs": []
    }
  ]
}